<!DOCTYPE html>
<!-- saved from url=(0080)http://localhost:8888/notebooks/my%20dataset/Untitled1.ipynb?kernel_name=python3 -->
<html lang="en-us"><head><meta http-equiv="Content-Type" content="text/html; charset=UTF-8">
    

    <title>Untitled1 - Jupyter Notebook</title>
    
    <meta http-equiv="X-UA-Compatible" content="IE=edge">
    <link rel="stylesheet" href="./iris_files/jquery-ui.min.css" type="text/css">
    <link rel="stylesheet" href="./iris_files/jquery.typeahead.min.css" type="text/css">
    <meta name="viewport" content="width=device-width, initial-scale=1.0">
    
    


<script type="text/javascript" src="./iris_files/MathJax.js.download" charset="utf-8"></script>

<script type="text/javascript">
// MathJax disabled, set as null to distinguish from *missing* MathJax,
// where it will be undefined, and should prompt a dialog later.
window.mathjax_url = "/static/components/MathJax/MathJax.js";
</script>

<link rel="stylesheet" href="./iris_files/bootstrap-tour.min.css" type="text/css">
<link rel="stylesheet" href="./iris_files/codemirror.css">


    <link rel="stylesheet" href="./iris_files/style.min.css" type="text/css">
    

<link rel="stylesheet" href="./iris_files/override.css" type="text/css">
<link rel="stylesheet" href="http://localhost:8888/notebooks/my%20dataset/Untitled1.ipynb?kernel_name=python3" id="kernel-css" type="text/css">


    <link rel="stylesheet" href="./iris_files/custom.css" type="text/css">
    <script src="./iris_files/promise.min.js.download" type="text/javascript" charset="utf-8"></script>
    <script src="./iris_files/react.production.min.js.download" type="text/javascript"></script>
    <script src="./iris_files/react-dom.production.min.js.download" type="text/javascript"></script>
    <script src="./iris_files/index.js.download" type="text/javascript"></script>
    <script src="./iris_files/require.js.download" type="text/javascript" charset="utf-8"></script>
    <script>
      require.config({
          
          urlArgs: "v=20220325151901",
          
          baseUrl: '/static/',
          paths: {
            'auth/js/main': 'auth/js/main.min',
            custom : '/custom',
            nbextensions : '/nbextensions',
            kernelspecs : '/kernelspecs',
            underscore : 'components/underscore/underscore-min',
            backbone : 'components/backbone/backbone-min',
            jed: 'components/jed/jed',
            jquery: 'components/jquery/jquery.min',
            json: 'components/requirejs-plugins/src/json',
            text: 'components/requirejs-text/text',
            bootstrap: 'components/bootstrap/dist/js/bootstrap.min',
            bootstraptour: 'components/bootstrap-tour/build/js/bootstrap-tour.min',
            'jquery-ui': 'components/jquery-ui/jquery-ui.min',
            moment: 'components/moment/min/moment-with-locales',
            codemirror: 'components/codemirror',
            termjs: 'components/xterm.js/xterm',
            typeahead: 'components/jquery-typeahead/dist/jquery.typeahead.min',
          },
          map: { // for backward compatibility
              "*": {
                  "jqueryui": "jquery-ui",
              }
          },
          shim: {
            typeahead: {
              deps: ["jquery"],
              exports: "typeahead"
            },
            underscore: {
              exports: '_'
            },
            backbone: {
              deps: ["underscore", "jquery"],
              exports: "Backbone"
            },
            bootstrap: {
              deps: ["jquery"],
              exports: "bootstrap"
            },
            bootstraptour: {
              deps: ["bootstrap"],
              exports: "Tour"
            },
            "jquery-ui": {
              deps: ["jquery"],
              exports: "$"
            }
          },
          waitSeconds: 30,
      });

      require.config({
          map: {
              '*':{
                'contents': 'services/contents',
              }
          }
      });

      // error-catching custom.js shim.
      define("custom", function (require, exports, module) {
          try {
              var custom = require('custom/custom');
              console.debug('loaded custom.js');
              return custom;
          } catch (e) {
              console.error("error loading custom.js", e);
              return {};
          }
      })

    document.nbjs_translations = {"domain": "nbjs", "locale_data": {"nbjs": {"": {"domain": "nbjs"}}}};
    document.documentElement.lang = navigator.language.toLowerCase();
    </script>

    
    

<script type="text/javascript" charset="utf-8" async="" data-requirecontext="_" data-requiremodule="services/contents" src="./iris_files/contents.js.download"></script><style type="text/css">.MathJax_Hover_Frame {border-radius: .25em; -webkit-border-radius: .25em; -moz-border-radius: .25em; -khtml-border-radius: .25em; box-shadow: 0px 0px 15px #83A; -webkit-box-shadow: 0px 0px 15px #83A; -moz-box-shadow: 0px 0px 15px #83A; -khtml-box-shadow: 0px 0px 15px #83A; border: 1px solid #A6D ! important; display: inline-block; position: absolute}
.MathJax_Menu_Button .MathJax_Hover_Arrow {position: absolute; cursor: pointer; display: inline-block; border: 2px solid #AAA; border-radius: 4px; -webkit-border-radius: 4px; -moz-border-radius: 4px; -khtml-border-radius: 4px; font-family: 'Courier New',Courier; font-size: 9px; color: #F0F0F0}
.MathJax_Menu_Button .MathJax_Hover_Arrow span {display: block; background-color: #AAA; border: 1px solid; border-radius: 3px; line-height: 0; padding: 4px}
.MathJax_Hover_Arrow:hover {color: white!important; border: 2px solid #CCC!important}
.MathJax_Hover_Arrow:hover span {background-color: #CCC!important}
</style><style type="text/css">#MathJax_About {position: fixed; left: 50%; width: auto; text-align: center; border: 3px outset; padding: 1em 2em; background-color: #DDDDDD; color: black; cursor: default; font-family: message-box; font-size: 120%; font-style: normal; text-indent: 0; text-transform: none; line-height: normal; letter-spacing: normal; word-spacing: normal; word-wrap: normal; white-space: nowrap; float: none; z-index: 201; border-radius: 15px; -webkit-border-radius: 15px; -moz-border-radius: 15px; -khtml-border-radius: 15px; box-shadow: 0px 10px 20px #808080; -webkit-box-shadow: 0px 10px 20px #808080; -moz-box-shadow: 0px 10px 20px #808080; -khtml-box-shadow: 0px 10px 20px #808080; filter: progid:DXImageTransform.Microsoft.dropshadow(OffX=2, OffY=2, Color='gray', Positive='true')}
#MathJax_About.MathJax_MousePost {outline: none}
.MathJax_Menu {position: absolute; background-color: white; color: black; width: auto; padding: 2px; border: 1px solid #CCCCCC; margin: 0; cursor: default; font: menu; text-align: left; text-indent: 0; text-transform: none; line-height: normal; letter-spacing: normal; word-spacing: normal; word-wrap: normal; white-space: nowrap; float: none; z-index: 201; box-shadow: 0px 10px 20px #808080; -webkit-box-shadow: 0px 10px 20px #808080; -moz-box-shadow: 0px 10px 20px #808080; -khtml-box-shadow: 0px 10px 20px #808080; filter: progid:DXImageTransform.Microsoft.dropshadow(OffX=2, OffY=2, Color='gray', Positive='true')}
.MathJax_MenuItem {padding: 2px 2em; background: transparent}
.MathJax_MenuArrow {position: absolute; right: .5em; padding-top: .25em; color: #666666; font-size: .75em}
.MathJax_MenuActive .MathJax_MenuArrow {color: white}
.MathJax_MenuArrow.RTL {left: .5em; right: auto}
.MathJax_MenuCheck {position: absolute; left: .7em}
.MathJax_MenuCheck.RTL {right: .7em; left: auto}
.MathJax_MenuRadioCheck {position: absolute; left: 1em}
.MathJax_MenuRadioCheck.RTL {right: 1em; left: auto}
.MathJax_MenuLabel {padding: 2px 2em 4px 1.33em; font-style: italic}
.MathJax_MenuRule {border-top: 1px solid #CCCCCC; margin: 4px 1px 0px}
.MathJax_MenuDisabled {color: GrayText}
.MathJax_MenuActive {background-color: Highlight; color: HighlightText}
.MathJax_MenuDisabled:focus, .MathJax_MenuLabel:focus {background-color: #E8E8E8}
.MathJax_ContextMenu:focus {outline: none}
.MathJax_ContextMenu .MathJax_MenuItem:focus {outline: none}
#MathJax_AboutClose {top: .2em; right: .2em}
.MathJax_Menu .MathJax_MenuClose {top: -10px; left: -10px}
.MathJax_MenuClose {position: absolute; cursor: pointer; display: inline-block; border: 2px solid #AAA; border-radius: 18px; -webkit-border-radius: 18px; -moz-border-radius: 18px; -khtml-border-radius: 18px; font-family: 'Courier New',Courier; font-size: 24px; color: #F0F0F0}
.MathJax_MenuClose span {display: block; background-color: #AAA; border: 1.5px solid; border-radius: 18px; -webkit-border-radius: 18px; -moz-border-radius: 18px; -khtml-border-radius: 18px; line-height: 0; padding: 8px 0 6px}
.MathJax_MenuClose:hover {color: white!important; border: 2px solid #CCC!important}
.MathJax_MenuClose:hover span {background-color: #CCC!important}
.MathJax_MenuClose:hover:focus {outline: none}
</style><style type="text/css">.MathJax_Preview .MJXf-math {color: inherit!important}
</style><style type="text/css">.MJX_Assistive_MathML {position: absolute!important; top: 0; left: 0; clip: rect(1px, 1px, 1px, 1px); padding: 1px 0 0 0!important; border: 0!important; height: 1px!important; width: 1px!important; overflow: hidden!important; display: block!important; -webkit-touch-callout: none; -webkit-user-select: none; -khtml-user-select: none; -moz-user-select: none; -ms-user-select: none; user-select: none}
.MJX_Assistive_MathML.MJX_Assistive_MathML_Block {width: 100%!important}
</style><style type="text/css">#MathJax_Zoom {position: absolute; background-color: #F0F0F0; overflow: auto; display: block; z-index: 301; padding: .5em; border: 1px solid black; margin: 0; font-weight: normal; font-style: normal; text-align: left; text-indent: 0; text-transform: none; line-height: normal; letter-spacing: normal; word-spacing: normal; word-wrap: normal; white-space: nowrap; float: none; -webkit-box-sizing: content-box; -moz-box-sizing: content-box; box-sizing: content-box; box-shadow: 5px 5px 15px #AAAAAA; -webkit-box-shadow: 5px 5px 15px #AAAAAA; -moz-box-shadow: 5px 5px 15px #AAAAAA; -khtml-box-shadow: 5px 5px 15px #AAAAAA; filter: progid:DXImageTransform.Microsoft.dropshadow(OffX=2, OffY=2, Color='gray', Positive='true')}
#MathJax_ZoomOverlay {position: absolute; left: 0; top: 0; z-index: 300; display: inline-block; width: 100%; height: 100%; border: 0; padding: 0; margin: 0; background-color: white; opacity: 0; filter: alpha(opacity=0)}
#MathJax_ZoomFrame {position: relative; display: inline-block; height: 0; width: 0}
#MathJax_ZoomEventTrap {position: absolute; left: 0; top: 0; z-index: 302; display: inline-block; border: 0; padding: 0; margin: 0; background-color: white; opacity: 0; filter: alpha(opacity=0)}
</style><style type="text/css">.MathJax_Preview {color: #888; display: contents}
#MathJax_Message {position: fixed; left: 1em; bottom: 1.5em; background-color: #E6E6E6; border: 1px solid #959595; margin: 0px; padding: 2px 8px; z-index: 102; color: black; font-size: 80%; width: auto; white-space: nowrap}
#MathJax_MSIE_Frame {position: absolute; top: 0; left: 0; width: 0px; z-index: 101; border: 0px; margin: 0px; padding: 0px}
.MathJax_Error {color: #CC0000; font-style: italic}
</style><script type="text/javascript" charset="utf-8" async="" data-requirecontext="_" data-requiremodule="custom/custom" src="./iris_files/custom.js.download"></script><script type="text/javascript" charset="utf-8" async="" data-requirecontext="_" data-requiremodule="nbextensions/jupyter-js-widgets/extension" src="./iris_files/extension.js.download"></script><style type="text/css">div.MathJax_MathML {text-align: center; margin: .75em 0px; display: block!important}
.MathJax_MathML {font-style: normal; font-weight: normal; line-height: normal; font-size: 100%; font-size-adjust: none; text-indent: 0; text-align: left; text-transform: none; letter-spacing: normal; word-spacing: normal; word-wrap: normal; white-space: nowrap; float: none; direction: ltr; max-width: none; max-height: none; min-width: 0; min-height: 0; border: 0; padding: 0; margin: 0}
span.MathJax_MathML {display: inline!important}
.MathJax_mmlExBox {display: block!important; overflow: hidden; height: 1px; width: 60ex; min-height: 0; max-height: none; padding: 0; border: 0; margin: 0}
[class="MJX-tex-oldstyle"] {font-family: MathJax_Caligraphic, MathJax_Caligraphic-WEB}
[class="MJX-tex-oldstyle-bold"] {font-family: MathJax_Caligraphic, MathJax_Caligraphic-WEB; font-weight: bold}
[class="MJX-tex-caligraphic"] {font-family: MathJax_Caligraphic, MathJax_Caligraphic-WEB}
[class="MJX-tex-caligraphic-bold"] {font-family: MathJax_Caligraphic, MathJax_Caligraphic-WEB; font-weight: bold}
@font-face /*1*/ {font-family: MathJax_Caligraphic-WEB; src: url('http://localhost:8888/static/components/MathJax/fonts/HTML-CSS/TeX/otf/MathJax_Caligraphic-Regular.otf')}
@font-face /*2*/ {font-family: MathJax_Caligraphic-WEB; font-weight: bold; src: url('http://localhost:8888/static/components/MathJax/fonts/HTML-CSS/TeX/otf/MathJax_Caligraphic-Bold.otf')}
[mathvariant="double-struck"] {font-family: MathJax_AMS, MathJax_AMS-WEB}
[mathvariant="script"] {font-family: MathJax_Script, MathJax_Script-WEB}
[mathvariant="fraktur"] {font-family: MathJax_Fraktur, MathJax_Fraktur-WEB}
[mathvariant="bold-script"] {font-family: MathJax_Script, MathJax_Caligraphic-WEB; font-weight: bold}
[mathvariant="bold-fraktur"] {font-family: MathJax_Fraktur, MathJax_Fraktur-WEB; font-weight: bold}
[mathvariant="monospace"] {font-family: monospace}
[mathvariant="sans-serif"] {font-family: sans-serif}
[mathvariant="bold-sans-serif"] {font-family: sans-serif; font-weight: bold}
[mathvariant="sans-serif-italic"] {font-family: sans-serif; font-style: italic}
[mathvariant="sans-serif-bold-italic"] {font-family: sans-serif; font-style: italic; font-weight: bold}
@font-face /*3*/ {font-family: MathJax_AMS-WEB; src: url('http://localhost:8888/static/components/MathJax/fonts/HTML-CSS/TeX/otf/MathJax_AMS-Regular.otf')}
@font-face /*4*/ {font-family: MathJax_Script-WEB; src: url('http://localhost:8888/static/components/MathJax/fonts/HTML-CSS/TeX/otf/MathJax_Script-Regular.otf')}
@font-face /*5*/ {font-family: MathJax_Fraktur-WEB; src: url('http://localhost:8888/static/components/MathJax/fonts/HTML-CSS/TeX/otf/MathJax_Fraktur-Regular.otf')}
@font-face /*6*/ {font-family: MathJax_Fraktur-WEB; font-weight: bold; src: url('http://localhost:8888/static/components/MathJax/fonts/HTML-CSS/TeX/otf/MathJax_Fraktur-Bold.otf')}
</style><style type="text/css">.MJXp-script {font-size: .8em}
.MJXp-right {-webkit-transform-origin: right; -moz-transform-origin: right; -ms-transform-origin: right; -o-transform-origin: right; transform-origin: right}
.MJXp-bold {font-weight: bold}
.MJXp-italic {font-style: italic}
.MJXp-scr {font-family: MathJax_Script,'Times New Roman',Times,STIXGeneral,serif}
.MJXp-frak {font-family: MathJax_Fraktur,'Times New Roman',Times,STIXGeneral,serif}
.MJXp-sf {font-family: MathJax_SansSerif,'Times New Roman',Times,STIXGeneral,serif}
.MJXp-cal {font-family: MathJax_Caligraphic,'Times New Roman',Times,STIXGeneral,serif}
.MJXp-mono {font-family: MathJax_Typewriter,'Times New Roman',Times,STIXGeneral,serif}
.MJXp-largeop {font-size: 150%}
.MJXp-largeop.MJXp-int {vertical-align: -.2em}
.MJXp-math {display: inline-block; line-height: 1.2; text-indent: 0; font-family: 'Times New Roman',Times,STIXGeneral,serif; white-space: nowrap; border-collapse: collapse}
.MJXp-display {display: block; text-align: center; margin: 1em 0}
.MJXp-math span {display: inline-block}
.MJXp-box {display: block!important; text-align: center}
.MJXp-box:after {content: " "}
.MJXp-rule {display: block!important; margin-top: .1em}
.MJXp-char {display: block!important}
.MJXp-mo {margin: 0 .15em}
.MJXp-mfrac {margin: 0 .125em; vertical-align: .25em}
.MJXp-denom {display: inline-table!important; width: 100%}
.MJXp-denom > * {display: table-row!important}
.MJXp-surd {vertical-align: top}
.MJXp-surd > * {display: block!important}
.MJXp-script-box > *  {display: table!important; height: 50%}
.MJXp-script-box > * > * {display: table-cell!important; vertical-align: top}
.MJXp-script-box > *:last-child > * {vertical-align: bottom}
.MJXp-script-box > * > * > * {display: block!important}
.MJXp-mphantom {visibility: hidden}
.MJXp-munderover, .MJXp-munder {display: inline-table!important}
.MJXp-over {display: inline-block!important; text-align: center}
.MJXp-over > * {display: block!important}
.MJXp-munderover > *, .MJXp-munder > * {display: table-row!important}
.MJXp-mtable {vertical-align: .25em; margin: 0 .125em}
.MJXp-mtable > * {display: inline-table!important; vertical-align: middle}
.MJXp-mtr {display: table-row!important}
.MJXp-mtd {display: table-cell!important; text-align: center; padding: .5em 0 0 .5em}
.MJXp-mtr > .MJXp-mtd:first-child {padding-left: 0}
.MJXp-mtr:first-child > .MJXp-mtd {padding-top: 0}
.MJXp-mlabeledtr {display: table-row!important}
.MJXp-mlabeledtr > .MJXp-mtd:first-child {padding-left: 0}
.MJXp-mlabeledtr:first-child > .MJXp-mtd {padding-top: 0}
.MJXp-merror {background-color: #FFFF88; color: #CC0000; border: 1px solid #CC0000; padding: 1px 3px; font-style: normal; font-size: 90%}
.MJXp-scale0 {-webkit-transform: scaleX(.0); -moz-transform: scaleX(.0); -ms-transform: scaleX(.0); -o-transform: scaleX(.0); transform: scaleX(.0)}
.MJXp-scale1 {-webkit-transform: scaleX(.1); -moz-transform: scaleX(.1); -ms-transform: scaleX(.1); -o-transform: scaleX(.1); transform: scaleX(.1)}
.MJXp-scale2 {-webkit-transform: scaleX(.2); -moz-transform: scaleX(.2); -ms-transform: scaleX(.2); -o-transform: scaleX(.2); transform: scaleX(.2)}
.MJXp-scale3 {-webkit-transform: scaleX(.3); -moz-transform: scaleX(.3); -ms-transform: scaleX(.3); -o-transform: scaleX(.3); transform: scaleX(.3)}
.MJXp-scale4 {-webkit-transform: scaleX(.4); -moz-transform: scaleX(.4); -ms-transform: scaleX(.4); -o-transform: scaleX(.4); transform: scaleX(.4)}
.MJXp-scale5 {-webkit-transform: scaleX(.5); -moz-transform: scaleX(.5); -ms-transform: scaleX(.5); -o-transform: scaleX(.5); transform: scaleX(.5)}
.MJXp-scale6 {-webkit-transform: scaleX(.6); -moz-transform: scaleX(.6); -ms-transform: scaleX(.6); -o-transform: scaleX(.6); transform: scaleX(.6)}
.MJXp-scale7 {-webkit-transform: scaleX(.7); -moz-transform: scaleX(.7); -ms-transform: scaleX(.7); -o-transform: scaleX(.7); transform: scaleX(.7)}
.MJXp-scale8 {-webkit-transform: scaleX(.8); -moz-transform: scaleX(.8); -ms-transform: scaleX(.8); -o-transform: scaleX(.8); transform: scaleX(.8)}
.MJXp-scale9 {-webkit-transform: scaleX(.9); -moz-transform: scaleX(.9); -ms-transform: scaleX(.9); -o-transform: scaleX(.9); transform: scaleX(.9)}
.MathJax_PHTML .noError {vertical-align: ; font-size: 90%; text-align: left; color: black; padding: 1px 3px; border: 1px solid}
</style><style type="text/css">.MathJax_Display {text-align: center; margin: 0; position: relative; display: block!important; text-indent: 0; max-width: none; max-height: none; min-width: 0; min-height: 0; width: 100%}
.MathJax .merror {background-color: #FFFF88; color: #CC0000; border: 1px solid #CC0000; padding: 1px 3px; font-style: normal; font-size: 90%}
.MathJax .MJX-monospace {font-family: monospace}
.MathJax .MJX-sans-serif {font-family: sans-serif}
#MathJax_Tooltip {background-color: InfoBackground; color: InfoText; border: 1px solid black; box-shadow: 2px 2px 5px #AAAAAA; -webkit-box-shadow: 2px 2px 5px #AAAAAA; -moz-box-shadow: 2px 2px 5px #AAAAAA; -khtml-box-shadow: 2px 2px 5px #AAAAAA; filter: progid:DXImageTransform.Microsoft.dropshadow(OffX=2, OffY=2, Color='gray', Positive='true'); padding: 3px 4px; z-index: 401; position: absolute; left: 0; top: 0; width: auto; height: auto; display: none}
.MathJax {display: inline; font-style: normal; font-weight: normal; line-height: normal; font-size: 100%; font-size-adjust: none; text-indent: 0; text-align: left; text-transform: none; letter-spacing: normal; word-spacing: normal; word-wrap: normal; white-space: nowrap; float: none; direction: ltr; max-width: none; max-height: none; min-width: 0; min-height: 0; border: 0; padding: 0; margin: 0}
.MathJax:focus, body :focus .MathJax {display: inline-table}
.MathJax.MathJax_FullWidth {text-align: center; display: table-cell!important; width: 10000em!important}
.MathJax img, .MathJax nobr, .MathJax a {border: 0; padding: 0; margin: 0; max-width: none; max-height: none; min-width: 0; min-height: 0; vertical-align: 0; line-height: normal; text-decoration: none}
img.MathJax_strut {border: 0!important; padding: 0!important; margin: 0!important; vertical-align: 0!important}
.MathJax span {display: inline; position: static; border: 0; padding: 0; margin: 0; vertical-align: 0; line-height: normal; text-decoration: none; box-sizing: content-box}
.MathJax nobr {white-space: nowrap!important}
.MathJax img {display: inline!important; float: none!important}
.MathJax * {transition: none; -webkit-transition: none; -moz-transition: none; -ms-transition: none; -o-transition: none}
.MathJax_Processing {visibility: hidden; position: fixed; width: 0; height: 0; overflow: hidden}
.MathJax_Processed {display: none!important}
.MathJax_test {font-style: normal; font-weight: normal; font-size: 100%; font-size-adjust: none; text-indent: 0; text-transform: none; letter-spacing: normal; word-spacing: normal; overflow: hidden; height: 1px}
.MathJax_test.mjx-test-display {display: table!important}
.MathJax_test.mjx-test-inline {display: inline!important; margin-right: -1px}
.MathJax_test.mjx-test-default {display: block!important; clear: both}
.MathJax_ex_box {display: inline-block!important; position: absolute; overflow: hidden; min-height: 0; max-height: none; padding: 0; border: 0; margin: 0; width: 1px; height: 60ex}
.MathJax_em_box {display: inline-block!important; position: absolute; overflow: hidden; min-height: 0; max-height: none; padding: 0; border: 0; margin: 0; width: 1px; height: 60em}
.mjx-test-inline .MathJax_left_box {display: inline-block; width: 0; float: left}
.mjx-test-inline .MathJax_right_box {display: inline-block; width: 0; float: right}
.mjx-test-display .MathJax_right_box {display: table-cell!important; width: 10000em!important; min-width: 0; max-width: none; padding: 0; border: 0; margin: 0}
.MathJax .MathJax_HitBox {cursor: text; background: white; opacity: 0; filter: alpha(opacity=0)}
.MathJax .MathJax_HitBox * {filter: none; opacity: 1; background: transparent}
#MathJax_Tooltip * {filter: none; opacity: 1; background: transparent}
@font-face {font-family: MathJax_Blank; src: url('about:blank')}
.MathJax .noError {vertical-align: ; font-size: 90%; text-align: left; color: black; padding: 1px 3px; border: 1px solid}
</style><style type="text/css">/*
 * Copyright (c) Jupyter Development Team.
 * Distributed under the terms of the Modified BSD License.
 */

/* Override the correction for the prompt area in https://github.com/jupyter/notebook/blob/dd41d9fd5c4f698bd7468612d877828a7eeb0e7a/IPython/html/static/notebook/less/outputarea.less#L110 */
.jupyter-widgets-output-area div.output_subarea {
    max-width: 100%;
}

/* Work-around for the bug fixed in https://github.com/jupyter/notebook/pull/2961 */
.jupyter-widgets-output-area > .out_prompt_overlay {
    display: none;
}
</style><style type="text/css">/*-----------------------------------------------------------------------------
| Copyright (c) 2014-2017, PhosphorJS Contributors
|
| Distributed under the terms of the BSD 3-Clause License.
|
| The full license is in the file LICENSE, distributed with this software.
|----------------------------------------------------------------------------*/


.p-Widget {
  box-sizing: border-box;
  position: relative;
  overflow: hidden;
  cursor: default;
}


.p-Widget.p-mod-hidden {
  display: none !important;
}
</style><style type="text/css">/*-----------------------------------------------------------------------------
| Copyright (c) 2014-2017, PhosphorJS Contributors
|
| Distributed under the terms of the BSD 3-Clause License.
|
| The full license is in the file LICENSE, distributed with this software.
|----------------------------------------------------------------------------*/


.p-CommandPalette {
  display: flex;
  flex-direction: column;
  -webkit-user-select: none;
  -moz-user-select: none;
  -ms-user-select: none;
  user-select: none;
}


.p-CommandPalette-search {
  flex: 0 0 auto;
}


.p-CommandPalette-content {
  flex: 1 1 auto;
  margin: 0;
  padding: 0;
  min-height: 0;
  overflow: auto;
  list-style-type: none;
}


.p-CommandPalette-header {
  overflow: hidden;
  white-space: nowrap;
  text-overflow: ellipsis;
}


.p-CommandPalette-item {
  display: flex;
  flex-direction: row;
}


.p-CommandPalette-itemIcon {
  flex: 0 0 auto;
}


.p-CommandPalette-itemContent {
  flex: 1 1 auto;
  overflow: hidden;
}


.p-CommandPalette-itemShortcut {
  flex: 0 0 auto;
}


.p-CommandPalette-itemLabel {
  overflow: hidden;
  white-space: nowrap;
  text-overflow: ellipsis;
}
</style><style type="text/css">/*-----------------------------------------------------------------------------
| Copyright (c) 2014-2017, PhosphorJS Contributors
|
| Distributed under the terms of the BSD 3-Clause License.
|
| The full license is in the file LICENSE, distributed with this software.
|----------------------------------------------------------------------------*/


.p-DockPanel {
  z-index: 0;
}


.p-DockPanel-widget {
  z-index: 0;
}


.p-DockPanel-tabBar {
  z-index: 1;
}


.p-DockPanel-handle {
  z-index: 2;
}


.p-DockPanel-handle.p-mod-hidden {
  display: none !important;
}


.p-DockPanel-handle:after {
  position: absolute;
  top: 0;
  left: 0;
  width: 100%;
  height: 100%;
  content: '';
}


.p-DockPanel-handle[data-orientation='horizontal'] {
  cursor: ew-resize;
}


.p-DockPanel-handle[data-orientation='vertical'] {
  cursor: ns-resize;
}


.p-DockPanel-handle[data-orientation='horizontal']:after {
  left: 50%;
  min-width: 8px;
  transform: translateX(-50%);
}


.p-DockPanel-handle[data-orientation='vertical']:after {
  top: 50%;
  min-height: 8px;
  transform: translateY(-50%);
}


.p-DockPanel-overlay {
  z-index: 3;
  box-sizing: border-box;
  pointer-events: none;
}


.p-DockPanel-overlay.p-mod-hidden {
  display: none !important;
}
</style><style type="text/css">/*-----------------------------------------------------------------------------
| Copyright (c) 2014-2017, PhosphorJS Contributors
|
| Distributed under the terms of the BSD 3-Clause License.
|
| The full license is in the file LICENSE, distributed with this software.
|----------------------------------------------------------------------------*/


.p-Menu {
  z-index: 10000;
  position: absolute;
  white-space: nowrap;
  overflow-x: hidden;
  overflow-y: auto;
  outline: none;
  -webkit-user-select: none;
  -moz-user-select: none;
  -ms-user-select: none;
  user-select: none;
}


.p-Menu-content {
  margin: 0;
  padding: 0;
  display: table;
  list-style-type: none;
}


.p-Menu-item {
  display: table-row;
}


.p-Menu-item.p-mod-hidden,
.p-Menu-item.p-mod-collapsed {
  display: none !important;
}


.p-Menu-itemIcon,
.p-Menu-itemSubmenuIcon {
  display: table-cell;
  text-align: center;
}


.p-Menu-itemLabel {
  display: table-cell;
  text-align: left;
}


.p-Menu-itemShortcut {
  display: table-cell;
  text-align: right;
}
</style><style type="text/css">/*-----------------------------------------------------------------------------
| Copyright (c) 2014-2017, PhosphorJS Contributors
|
| Distributed under the terms of the BSD 3-Clause License.
|
| The full license is in the file LICENSE, distributed with this software.
|----------------------------------------------------------------------------*/


.p-MenuBar {
  outline: none;
  -webkit-user-select: none;
  -moz-user-select: none;
  -ms-user-select: none;
  user-select: none;
}


.p-MenuBar-content {
  margin: 0;
  padding: 0;
  display: flex;
  flex-direction: row;
  list-style-type: none;
}


.p-MenuBar-item {
  box-sizing: border-box;
}


.p-MenuBar-itemIcon,
.p-MenuBar-itemLabel {
  display: inline-block;
}
</style><style type="text/css">/*-----------------------------------------------------------------------------
| Copyright (c) 2014-2017, PhosphorJS Contributors
|
| Distributed under the terms of the BSD 3-Clause License.
|
| The full license is in the file LICENSE, distributed with this software.
|----------------------------------------------------------------------------*/


.p-ScrollBar {
  display: flex;
  -webkit-user-select: none;
  -moz-user-select: none;
  -ms-user-select: none;
  user-select: none;
}


.p-ScrollBar[data-orientation='horizontal'] {
  flex-direction: row;
}


.p-ScrollBar[data-orientation='vertical'] {
  flex-direction: column;
}


.p-ScrollBar-button {
  box-sizing: border-box;
  flex: 0 0 auto;
}


.p-ScrollBar-track {
  box-sizing: border-box;
  position: relative;
  overflow: hidden;
  flex: 1 1 auto;
}


.p-ScrollBar-thumb {
  box-sizing: border-box;
  position: absolute;
}
</style><style type="text/css">/*-----------------------------------------------------------------------------
| Copyright (c) 2014-2017, PhosphorJS Contributors
|
| Distributed under the terms of the BSD 3-Clause License.
|
| The full license is in the file LICENSE, distributed with this software.
|----------------------------------------------------------------------------*/


.p-SplitPanel-child {
  z-index: 0;
}


.p-SplitPanel-handle {
  z-index: 1;
}


.p-SplitPanel-handle.p-mod-hidden {
  display: none !important;
}


.p-SplitPanel-handle:after {
  position: absolute;
  top: 0;
  left: 0;
  width: 100%;
  height: 100%;
  content: '';
}


.p-SplitPanel[data-orientation='horizontal'] > .p-SplitPanel-handle {
  cursor: ew-resize;
}


.p-SplitPanel[data-orientation='vertical'] > .p-SplitPanel-handle {
  cursor: ns-resize;
}


.p-SplitPanel[data-orientation='horizontal'] > .p-SplitPanel-handle:after {
  left: 50%;
  min-width: 8px;
  transform: translateX(-50%);
}


.p-SplitPanel[data-orientation='vertical'] > .p-SplitPanel-handle:after {
  top: 50%;
  min-height: 8px;
  transform: translateY(-50%);
}
</style><style type="text/css">/*-----------------------------------------------------------------------------
| Copyright (c) 2014-2017, PhosphorJS Contributors
|
| Distributed under the terms of the BSD 3-Clause License.
|
| The full license is in the file LICENSE, distributed with this software.
|----------------------------------------------------------------------------*/


.p-TabBar {
  display: flex;
  -webkit-user-select: none;
  -moz-user-select: none;
  -ms-user-select: none;
  user-select: none;
}


.p-TabBar[data-orientation='horizontal'] {
  flex-direction: row;
}


.p-TabBar[data-orientation='vertical'] {
  flex-direction: column;
}


.p-TabBar-content {
  margin: 0;
  padding: 0;
  display: flex;
  flex: 1 1 auto;
  list-style-type: none;
}


.p-TabBar[data-orientation='horizontal'] > .p-TabBar-content {
  flex-direction: row;
}


.p-TabBar[data-orientation='vertical'] > .p-TabBar-content {
  flex-direction: column;
}


.p-TabBar-tab {
  display: flex;
  flex-direction: row;
  box-sizing: border-box;
  overflow: hidden;
}


.p-TabBar-tabIcon,
.p-TabBar-tabCloseIcon {
  flex: 0 0 auto;
}


.p-TabBar-tabLabel {
  flex: 1 1 auto;
  overflow: hidden;
  white-space: nowrap;
}


.p-TabBar-tab.p-mod-hidden {
  display: none !important;
}


.p-TabBar.p-mod-dragging .p-TabBar-tab {
  position: relative;
}


.p-TabBar.p-mod-dragging[data-orientation='horizontal'] .p-TabBar-tab {
  left: 0;
  transition: left 150ms ease;
}


.p-TabBar.p-mod-dragging[data-orientation='vertical'] .p-TabBar-tab {
  top: 0;
  transition: top 150ms ease;
}


.p-TabBar.p-mod-dragging .p-TabBar-tab.p-mod-dragging {
  transition: none;
}
</style><style type="text/css">/*-----------------------------------------------------------------------------
| Copyright (c) 2014-2017, PhosphorJS Contributors
|
| Distributed under the terms of the BSD 3-Clause License.
|
| The full license is in the file LICENSE, distributed with this software.
|----------------------------------------------------------------------------*/


.p-TabPanel-tabBar {
  z-index: 1;
}


.p-TabPanel-stackedPanel {
  z-index: 0;
}
</style><style type="text/css">/*-----------------------------------------------------------------------------
| Copyright (c) 2014-2017, PhosphorJS Contributors
|
| Distributed under the terms of the BSD 3-Clause License.
|
| The full license is in the file LICENSE, distributed with this software.
|----------------------------------------------------------------------------*/
</style><style type="text/css">/* Copyright (c) Jupyter Development Team.
 * Distributed under the terms of the Modified BSD License.
 */

 .jupyter-widgets-disconnected::before {
    content: "\f127"; /* chain-broken */
    display: inline-block;
    font: normal normal normal 14px/1 FontAwesome;
    font-size: inherit;
    text-rendering: auto;
    -webkit-font-smoothing: antialiased;
    -moz-osx-font-smoothing: grayscale;
    color: #d9534f;
    padding: 3px;
    align-self: flex-start;
}
</style><style type="text/css">/**
 * The material design colors are adapted from google-material-color v1.2.6
 * https://github.com/danlevan/google-material-color
 * https://github.com/danlevan/google-material-color/blob/f67ca5f4028b2f1b34862f64b0ca67323f91b088/dist/palette.var.css
 *
 * The license for the material design color CSS variables is as follows (see
 * https://github.com/danlevan/google-material-color/blob/f67ca5f4028b2f1b34862f64b0ca67323f91b088/LICENSE)
 *
 * The MIT License (MIT)
 *
 * Copyright (c) 2014 Dan Le Van
 *
 * Permission is hereby granted, free of charge, to any person obtaining a copy
 * of this software and associated documentation files (the "Software"), to deal
 * in the Software without restriction, including without limitation the rights
 * to use, copy, modify, merge, publish, distribute, sublicense, and/or sell
 * copies of the Software, and to permit persons to whom the Software is
 * furnished to do so, subject to the following conditions:
 *
 * The above copyright notice and this permission notice shall be included in
 * all copies or substantial portions of the Software.
 *
 * THE SOFTWARE IS PROVIDED "AS IS", WITHOUT WARRANTY OF ANY KIND, EXPRESS OR
 * IMPLIED, INCLUDING BUT NOT LIMITED TO THE WARRANTIES OF MERCHANTABILITY,
 * FITNESS FOR A PARTICULAR PURPOSE AND NONINFRINGEMENT. IN NO EVENT SHALL THE
 * AUTHORS OR COPYRIGHT HOLDERS BE LIABLE FOR ANY CLAIM, DAMAGES OR OTHER
 * LIABILITY, WHETHER IN AN ACTION OF CONTRACT, TORT OR OTHERWISE, ARISING FROM,
 * OUT OF OR IN CONNECTION WITH THE SOFTWARE OR THE USE OR OTHER DEALINGS IN THE
 * SOFTWARE.
 */
:root {
  --md-red-50: #FFEBEE;
  --md-red-100: #FFCDD2;
  --md-red-200: #EF9A9A;
  --md-red-300: #E57373;
  --md-red-400: #EF5350;
  --md-red-500: #F44336;
  --md-red-600: #E53935;
  --md-red-700: #D32F2F;
  --md-red-800: #C62828;
  --md-red-900: #B71C1C;
  --md-red-A100: #FF8A80;
  --md-red-A200: #FF5252;
  --md-red-A400: #FF1744;
  --md-red-A700: #D50000;

  --md-pink-50: #FCE4EC;
  --md-pink-100: #F8BBD0;
  --md-pink-200: #F48FB1;
  --md-pink-300: #F06292;
  --md-pink-400: #EC407A;
  --md-pink-500: #E91E63;
  --md-pink-600: #D81B60;
  --md-pink-700: #C2185B;
  --md-pink-800: #AD1457;
  --md-pink-900: #880E4F;
  --md-pink-A100: #FF80AB;
  --md-pink-A200: #FF4081;
  --md-pink-A400: #F50057;
  --md-pink-A700: #C51162;

  --md-purple-50: #F3E5F5;
  --md-purple-100: #E1BEE7;
  --md-purple-200: #CE93D8;
  --md-purple-300: #BA68C8;
  --md-purple-400: #AB47BC;
  --md-purple-500: #9C27B0;
  --md-purple-600: #8E24AA;
  --md-purple-700: #7B1FA2;
  --md-purple-800: #6A1B9A;
  --md-purple-900: #4A148C;
  --md-purple-A100: #EA80FC;
  --md-purple-A200: #E040FB;
  --md-purple-A400: #D500F9;
  --md-purple-A700: #AA00FF;

  --md-deep-purple-50: #EDE7F6;
  --md-deep-purple-100: #D1C4E9;
  --md-deep-purple-200: #B39DDB;
  --md-deep-purple-300: #9575CD;
  --md-deep-purple-400: #7E57C2;
  --md-deep-purple-500: #673AB7;
  --md-deep-purple-600: #5E35B1;
  --md-deep-purple-700: #512DA8;
  --md-deep-purple-800: #4527A0;
  --md-deep-purple-900: #311B92;
  --md-deep-purple-A100: #B388FF;
  --md-deep-purple-A200: #7C4DFF;
  --md-deep-purple-A400: #651FFF;
  --md-deep-purple-A700: #6200EA;

  --md-indigo-50: #E8EAF6;
  --md-indigo-100: #C5CAE9;
  --md-indigo-200: #9FA8DA;
  --md-indigo-300: #7986CB;
  --md-indigo-400: #5C6BC0;
  --md-indigo-500: #3F51B5;
  --md-indigo-600: #3949AB;
  --md-indigo-700: #303F9F;
  --md-indigo-800: #283593;
  --md-indigo-900: #1A237E;
  --md-indigo-A100: #8C9EFF;
  --md-indigo-A200: #536DFE;
  --md-indigo-A400: #3D5AFE;
  --md-indigo-A700: #304FFE;

  --md-blue-50: #E3F2FD;
  --md-blue-100: #BBDEFB;
  --md-blue-200: #90CAF9;
  --md-blue-300: #64B5F6;
  --md-blue-400: #42A5F5;
  --md-blue-500: #2196F3;
  --md-blue-600: #1E88E5;
  --md-blue-700: #1976D2;
  --md-blue-800: #1565C0;
  --md-blue-900: #0D47A1;
  --md-blue-A100: #82B1FF;
  --md-blue-A200: #448AFF;
  --md-blue-A400: #2979FF;
  --md-blue-A700: #2962FF;

  --md-light-blue-50: #E1F5FE;
  --md-light-blue-100: #B3E5FC;
  --md-light-blue-200: #81D4FA;
  --md-light-blue-300: #4FC3F7;
  --md-light-blue-400: #29B6F6;
  --md-light-blue-500: #03A9F4;
  --md-light-blue-600: #039BE5;
  --md-light-blue-700: #0288D1;
  --md-light-blue-800: #0277BD;
  --md-light-blue-900: #01579B;
  --md-light-blue-A100: #80D8FF;
  --md-light-blue-A200: #40C4FF;
  --md-light-blue-A400: #00B0FF;
  --md-light-blue-A700: #0091EA;

  --md-cyan-50: #E0F7FA;
  --md-cyan-100: #B2EBF2;
  --md-cyan-200: #80DEEA;
  --md-cyan-300: #4DD0E1;
  --md-cyan-400: #26C6DA;
  --md-cyan-500: #00BCD4;
  --md-cyan-600: #00ACC1;
  --md-cyan-700: #0097A7;
  --md-cyan-800: #00838F;
  --md-cyan-900: #006064;
  --md-cyan-A100: #84FFFF;
  --md-cyan-A200: #18FFFF;
  --md-cyan-A400: #00E5FF;
  --md-cyan-A700: #00B8D4;

  --md-teal-50: #E0F2F1;
  --md-teal-100: #B2DFDB;
  --md-teal-200: #80CBC4;
  --md-teal-300: #4DB6AC;
  --md-teal-400: #26A69A;
  --md-teal-500: #009688;
  --md-teal-600: #00897B;
  --md-teal-700: #00796B;
  --md-teal-800: #00695C;
  --md-teal-900: #004D40;
  --md-teal-A100: #A7FFEB;
  --md-teal-A200: #64FFDA;
  --md-teal-A400: #1DE9B6;
  --md-teal-A700: #00BFA5;

  --md-green-50: #E8F5E9;
  --md-green-100: #C8E6C9;
  --md-green-200: #A5D6A7;
  --md-green-300: #81C784;
  --md-green-400: #66BB6A;
  --md-green-500: #4CAF50;
  --md-green-600: #43A047;
  --md-green-700: #388E3C;
  --md-green-800: #2E7D32;
  --md-green-900: #1B5E20;
  --md-green-A100: #B9F6CA;
  --md-green-A200: #69F0AE;
  --md-green-A400: #00E676;
  --md-green-A700: #00C853;

  --md-light-green-50: #F1F8E9;
  --md-light-green-100: #DCEDC8;
  --md-light-green-200: #C5E1A5;
  --md-light-green-300: #AED581;
  --md-light-green-400: #9CCC65;
  --md-light-green-500: #8BC34A;
  --md-light-green-600: #7CB342;
  --md-light-green-700: #689F38;
  --md-light-green-800: #558B2F;
  --md-light-green-900: #33691E;
  --md-light-green-A100: #CCFF90;
  --md-light-green-A200: #B2FF59;
  --md-light-green-A400: #76FF03;
  --md-light-green-A700: #64DD17;

  --md-lime-50: #F9FBE7;
  --md-lime-100: #F0F4C3;
  --md-lime-200: #E6EE9C;
  --md-lime-300: #DCE775;
  --md-lime-400: #D4E157;
  --md-lime-500: #CDDC39;
  --md-lime-600: #C0CA33;
  --md-lime-700: #AFB42B;
  --md-lime-800: #9E9D24;
  --md-lime-900: #827717;
  --md-lime-A100: #F4FF81;
  --md-lime-A200: #EEFF41;
  --md-lime-A400: #C6FF00;
  --md-lime-A700: #AEEA00;

  --md-yellow-50: #FFFDE7;
  --md-yellow-100: #FFF9C4;
  --md-yellow-200: #FFF59D;
  --md-yellow-300: #FFF176;
  --md-yellow-400: #FFEE58;
  --md-yellow-500: #FFEB3B;
  --md-yellow-600: #FDD835;
  --md-yellow-700: #FBC02D;
  --md-yellow-800: #F9A825;
  --md-yellow-900: #F57F17;
  --md-yellow-A100: #FFFF8D;
  --md-yellow-A200: #FFFF00;
  --md-yellow-A400: #FFEA00;
  --md-yellow-A700: #FFD600;

  --md-amber-50: #FFF8E1;
  --md-amber-100: #FFECB3;
  --md-amber-200: #FFE082;
  --md-amber-300: #FFD54F;
  --md-amber-400: #FFCA28;
  --md-amber-500: #FFC107;
  --md-amber-600: #FFB300;
  --md-amber-700: #FFA000;
  --md-amber-800: #FF8F00;
  --md-amber-900: #FF6F00;
  --md-amber-A100: #FFE57F;
  --md-amber-A200: #FFD740;
  --md-amber-A400: #FFC400;
  --md-amber-A700: #FFAB00;

  --md-orange-50: #FFF3E0;
  --md-orange-100: #FFE0B2;
  --md-orange-200: #FFCC80;
  --md-orange-300: #FFB74D;
  --md-orange-400: #FFA726;
  --md-orange-500: #FF9800;
  --md-orange-600: #FB8C00;
  --md-orange-700: #F57C00;
  --md-orange-800: #EF6C00;
  --md-orange-900: #E65100;
  --md-orange-A100: #FFD180;
  --md-orange-A200: #FFAB40;
  --md-orange-A400: #FF9100;
  --md-orange-A700: #FF6D00;

  --md-deep-orange-50: #FBE9E7;
  --md-deep-orange-100: #FFCCBC;
  --md-deep-orange-200: #FFAB91;
  --md-deep-orange-300: #FF8A65;
  --md-deep-orange-400: #FF7043;
  --md-deep-orange-500: #FF5722;
  --md-deep-orange-600: #F4511E;
  --md-deep-orange-700: #E64A19;
  --md-deep-orange-800: #D84315;
  --md-deep-orange-900: #BF360C;
  --md-deep-orange-A100: #FF9E80;
  --md-deep-orange-A200: #FF6E40;
  --md-deep-orange-A400: #FF3D00;
  --md-deep-orange-A700: #DD2C00;

  --md-brown-50: #EFEBE9;
  --md-brown-100: #D7CCC8;
  --md-brown-200: #BCAAA4;
  --md-brown-300: #A1887F;
  --md-brown-400: #8D6E63;
  --md-brown-500: #795548;
  --md-brown-600: #6D4C41;
  --md-brown-700: #5D4037;
  --md-brown-800: #4E342E;
  --md-brown-900: #3E2723;

  --md-grey-50: #FAFAFA;
  --md-grey-100: #F5F5F5;
  --md-grey-200: #EEEEEE;
  --md-grey-300: #E0E0E0;
  --md-grey-400: #BDBDBD;
  --md-grey-500: #9E9E9E;
  --md-grey-600: #757575;
  --md-grey-700: #616161;
  --md-grey-800: #424242;
  --md-grey-900: #212121;

  --md-blue-grey-50: #ECEFF1;
  --md-blue-grey-100: #CFD8DC;
  --md-blue-grey-200: #B0BEC5;
  --md-blue-grey-300: #90A4AE;
  --md-blue-grey-400: #78909C;
  --md-blue-grey-500: #607D8B;
  --md-blue-grey-600: #546E7A;
  --md-blue-grey-700: #455A64;
  --md-blue-grey-800: #37474F;
  --md-blue-grey-900: #263238;
}</style><style type="text/css">/*-----------------------------------------------------------------------------
| Copyright (c) Jupyter Development Team.
| Distributed under the terms of the Modified BSD License.
|----------------------------------------------------------------------------*/

/*
This file is copied from the JupyterLab project to define default styling for
when the widget styling is compiled down to eliminate CSS variables. We make one
change - we comment out the font import below.
*/

/*
The following CSS variables define the main, public API for styling JupyterLab.
These variables should be used by all plugins wherever possible. In other
words, plugins should not define custom colors, sizes, etc unless absolutely
necessary. This enables users to change the visual theme of JupyterLab
by changing these variables.

Many variables appear in an ordered sequence (0,1,2,3). These sequences
are designed to work well together, so for example, `--jp-border-color1` should
be used with `--jp-layout-color1`. The numbers have the following meanings:

* 0: super-primary, reserved for special emphasis
* 1: primary, most important under normal situations
* 2: secondary, next most important under normal situations
* 3: tertiary, next most important under normal situations

Throughout JupyterLab, we are mostly following principles from Google's
Material Design when selecting colors. We are not, however, following
all of MD as it is not optimized for dense, information rich UIs.
*/


/*
 * Optional monospace font for input/output prompt.
 */
 /* Commented out in ipywidgets since we don't need it. */
/* @import url('https://fonts.googleapis.com/css?family=Roboto+Mono'); */

/*
 * Added for compabitility with output area
 */
:root {
  --jp-icon-search: none;
  --jp-ui-select-caret: none;
}


:root {

  /* Borders

  The following variables, specify the visual styling of borders in JupyterLab.
   */

  --jp-border-width: 1px;
  --jp-border-color0: var(--md-grey-700);
  --jp-border-color1: var(--md-grey-500);
  --jp-border-color2: var(--md-grey-300);
  --jp-border-color3: var(--md-grey-100);

  /* UI Fonts

  The UI font CSS variables are used for the typography all of the JupyterLab
  user interface elements that are not directly user generated content.
  */

  --jp-ui-font-scale-factor: 1.2;
  --jp-ui-font-size0: calc(var(--jp-ui-font-size1)/var(--jp-ui-font-scale-factor));
  --jp-ui-font-size1: 13px; /* Base font size */
  --jp-ui-font-size2: calc(var(--jp-ui-font-size1)*var(--jp-ui-font-scale-factor));
  --jp-ui-font-size3: calc(var(--jp-ui-font-size2)*var(--jp-ui-font-scale-factor));
  --jp-ui-icon-font-size: 14px; /* Ensures px perfect FontAwesome icons */
  --jp-ui-font-family: "Helvetica Neue", Helvetica, Arial, sans-serif;

  /* Use these font colors against the corresponding main layout colors.
     In a light theme, these go from dark to light.
  */

  --jp-ui-font-color0: rgba(0,0,0,1.0);
  --jp-ui-font-color1: rgba(0,0,0,0.8);
  --jp-ui-font-color2: rgba(0,0,0,0.5);
  --jp-ui-font-color3: rgba(0,0,0,0.3);

  /* Use these against the brand/accent/warn/error colors.
     These will typically go from light to darker, in both a dark and light theme
   */

  --jp-inverse-ui-font-color0: rgba(255,255,255,1);
  --jp-inverse-ui-font-color1: rgba(255,255,255,1.0);
  --jp-inverse-ui-font-color2: rgba(255,255,255,0.7);
  --jp-inverse-ui-font-color3: rgba(255,255,255,0.5);

  /* Content Fonts

  Content font variables are used for typography of user generated content.
  */

  --jp-content-font-size: 13px;
  --jp-content-line-height: 1.5;
  --jp-content-font-color0: black;
  --jp-content-font-color1: black;
  --jp-content-font-color2: var(--md-grey-700);
  --jp-content-font-color3: var(--md-grey-500);

  --jp-ui-font-scale-factor: 1.2;
  --jp-ui-font-size0: calc(var(--jp-ui-font-size1)/var(--jp-ui-font-scale-factor));
  --jp-ui-font-size1: 13px; /* Base font size */
  --jp-ui-font-size2: calc(var(--jp-ui-font-size1)*var(--jp-ui-font-scale-factor));
  --jp-ui-font-size3: calc(var(--jp-ui-font-size2)*var(--jp-ui-font-scale-factor));

  --jp-code-font-size: 13px;
  --jp-code-line-height: 1.307;
  --jp-code-padding: 5px;
  --jp-code-font-family: monospace;


  /* Layout

  The following are the main layout colors use in JupyterLab. In a light
  theme these would go from light to dark.
  */

  --jp-layout-color0: white;
  --jp-layout-color1: white;
  --jp-layout-color2: var(--md-grey-200);
  --jp-layout-color3: var(--md-grey-400);

  /* Brand/accent */

  --jp-brand-color0: var(--md-blue-700);
  --jp-brand-color1: var(--md-blue-500);
  --jp-brand-color2: var(--md-blue-300);
  --jp-brand-color3: var(--md-blue-100);

  --jp-accent-color0: var(--md-green-700);
  --jp-accent-color1: var(--md-green-500);
  --jp-accent-color2: var(--md-green-300);
  --jp-accent-color3: var(--md-green-100);

  /* State colors (warn, error, success, info) */

  --jp-warn-color0: var(--md-orange-700);
  --jp-warn-color1: var(--md-orange-500);
  --jp-warn-color2: var(--md-orange-300);
  --jp-warn-color3: var(--md-orange-100);

  --jp-error-color0: var(--md-red-700);
  --jp-error-color1: var(--md-red-500);
  --jp-error-color2: var(--md-red-300);
  --jp-error-color3: var(--md-red-100);

  --jp-success-color0: var(--md-green-700);
  --jp-success-color1: var(--md-green-500);
  --jp-success-color2: var(--md-green-300);
  --jp-success-color3: var(--md-green-100);

  --jp-info-color0: var(--md-cyan-700);
  --jp-info-color1: var(--md-cyan-500);
  --jp-info-color2: var(--md-cyan-300);
  --jp-info-color3: var(--md-cyan-100);

  /* Cell specific styles */

  --jp-cell-padding: 5px;
  --jp-cell-editor-background: #f7f7f7;
  --jp-cell-editor-border-color: #cfcfcf;
  --jp-cell-editor-background-edit: var(--jp-ui-layout-color1);
  --jp-cell-editor-border-color-edit: var(--jp-brand-color1);
  --jp-cell-prompt-width: 100px;
  --jp-cell-prompt-font-family: 'Roboto Mono', monospace;
  --jp-cell-prompt-letter-spacing: 0px;
  --jp-cell-prompt-opacity: 1.0;
  --jp-cell-prompt-opacity-not-active: 0.4;
  --jp-cell-prompt-font-color-not-active: var(--md-grey-700);
  /* A custom blend of MD grey and blue 600
   * See https://meyerweb.com/eric/tools/color-blend/#546E7A:1E88E5:5:hex */
  --jp-cell-inprompt-font-color: #307FC1;
  /* A custom blend of MD grey and orange 600
   * https://meyerweb.com/eric/tools/color-blend/#546E7A:F4511E:5:hex */
  --jp-cell-outprompt-font-color: #BF5B3D;

  /* Notebook specific styles */

  --jp-notebook-padding: 10px;
  --jp-notebook-scroll-padding: 100px;

  /* Console specific styles */

  --jp-console-background: var(--md-grey-100);

  /* Toolbar specific styles */

  --jp-toolbar-border-color: var(--md-grey-400);
  --jp-toolbar-micro-height: 8px;
  --jp-toolbar-background: var(--jp-layout-color0);
  --jp-toolbar-box-shadow: 0px 0px 2px 0px rgba(0,0,0,0.24);
  --jp-toolbar-header-margin: 4px 4px 0px 4px;
  --jp-toolbar-active-background: var(--md-grey-300);
}
</style><style type="text/css">/* This file has code derived from PhosphorJS CSS files, as noted below. The license for this PhosphorJS code is:

Copyright (c) 2014-2017, PhosphorJS Contributors
All rights reserved.

Redistribution and use in source and binary forms, with or without
modification, are permitted provided that the following conditions are met:

* Redistributions of source code must retain the above copyright notice, this
  list of conditions and the following disclaimer.

* Redistributions in binary form must reproduce the above copyright notice,
  this list of conditions and the following disclaimer in the documentation
  and/or other materials provided with the distribution.

* Neither the name of the copyright holder nor the names of its
  contributors may be used to endorse or promote products derived from
  this software without specific prior written permission.

THIS SOFTWARE IS PROVIDED BY THE COPYRIGHT HOLDERS AND CONTRIBUTORS "AS IS"
AND ANY EXPRESS OR IMPLIED WARRANTIES, INCLUDING, BUT NOT LIMITED TO, THE
IMPLIED WARRANTIES OF MERCHANTABILITY AND FITNESS FOR A PARTICULAR PURPOSE ARE
DISCLAIMED. IN NO EVENT SHALL THE COPYRIGHT HOLDER OR CONTRIBUTORS BE LIABLE
FOR ANY DIRECT, INDIRECT, INCIDENTAL, SPECIAL, EXEMPLARY, OR CONSEQUENTIAL
DAMAGES (INCLUDING, BUT NOT LIMITED TO, PROCUREMENT OF SUBSTITUTE GOODS OR
SERVICES; LOSS OF USE, DATA, OR PROFITS; OR BUSINESS INTERRUPTION) HOWEVER
CAUSED AND ON ANY THEORY OF LIABILITY, WHETHER IN CONTRACT, STRICT LIABILITY,
OR TORT (INCLUDING NEGLIGENCE OR OTHERWISE) ARISING IN ANY WAY OUT OF THE USE
OF THIS SOFTWARE, EVEN IF ADVISED OF THE POSSIBILITY OF SUCH DAMAGE.

*/

/*
 * The following section is derived from https://github.com/phosphorjs/phosphor/blob/23b9d075ebc5b73ab148b6ebfc20af97f85714c4/packages/widgets/style/tabbar.css 
 * We've scoped the rules so that they are consistent with exactly our code.
 */

.jupyter-widgets.widget-tab > .p-TabBar {
  display: flex;
  -webkit-user-select: none;
  -moz-user-select: none;
  -ms-user-select: none;
  user-select: none;
}


.jupyter-widgets.widget-tab > .p-TabBar[data-orientation='horizontal'] {
  flex-direction: row;
}


.jupyter-widgets.widget-tab > .p-TabBar[data-orientation='vertical'] {
  flex-direction: column;
}


.jupyter-widgets.widget-tab > .p-TabBar > .p-TabBar-content {
  margin: 0;
  padding: 0;
  display: flex;
  flex: 1 1 auto;
  list-style-type: none;
}


.jupyter-widgets.widget-tab > .p-TabBar[data-orientation='horizontal'] > .p-TabBar-content {
  flex-direction: row;
}


.jupyter-widgets.widget-tab > .p-TabBar[data-orientation='vertical'] > .p-TabBar-content {
  flex-direction: column;
}


.jupyter-widgets.widget-tab > .p-TabBar .p-TabBar-tab {
  display: flex;
  flex-direction: row;
  box-sizing: border-box;
  overflow: hidden;
}


.jupyter-widgets.widget-tab > .p-TabBar .p-TabBar-tabIcon,
.jupyter-widgets.widget-tab > .p-TabBar .p-TabBar-tabCloseIcon {
  flex: 0 0 auto;
}


.jupyter-widgets.widget-tab > .p-TabBar .p-TabBar-tabLabel {
  flex: 1 1 auto;
  overflow: hidden;
  white-space: nowrap;
}


.jupyter-widgets.widget-tab > .p-TabBar .p-TabBar-tab.p-mod-hidden {
  display: none !important;
}


.jupyter-widgets.widget-tab > .p-TabBar.p-mod-dragging .p-TabBar-tab {
  position: relative;
}


.jupyter-widgets.widget-tab > .p-TabBar.p-mod-dragging[data-orientation='horizontal'] .p-TabBar-tab {
  left: 0;
  transition: left 150ms ease;
}


.jupyter-widgets.widget-tab > .p-TabBar.p-mod-dragging[data-orientation='vertical'] .p-TabBar-tab {
  top: 0;
  transition: top 150ms ease;
}


.jupyter-widgets.widget-tab > .p-TabBar.p-mod-dragging .p-TabBar-tab.p-mod-dragging {
  transition: none;
}

/* End tabbar.css */
</style><style type="text/css">/* Copyright (c) Jupyter Development Team.
 * Distributed under the terms of the Modified BSD License.
 */

/*
 * We assume that the CSS variables in
 * https://github.com/jupyterlab/jupyterlab/blob/master/src/default-theme/variables.css
 * have been defined.
 */

:root {
    --jp-widgets-color: var(--jp-content-font-color1);
    --jp-widgets-label-color: var(--jp-widgets-color);
    --jp-widgets-readout-color: var(--jp-widgets-color);
    --jp-widgets-font-size: var(--jp-ui-font-size1);
    --jp-widgets-margin: 2px;
    --jp-widgets-inline-height: 28px;
    --jp-widgets-inline-width: 300px;
    --jp-widgets-inline-width-short: calc(var(--jp-widgets-inline-width) / 2 - var(--jp-widgets-margin));
    --jp-widgets-inline-width-tiny: calc(var(--jp-widgets-inline-width-short) / 2 - var(--jp-widgets-margin));
    --jp-widgets-inline-margin: 4px; /* margin between inline elements */
    --jp-widgets-inline-label-width: 80px;
    --jp-widgets-border-width: var(--jp-border-width);
    --jp-widgets-vertical-height: 200px;
    --jp-widgets-horizontal-tab-height: 24px;
    --jp-widgets-horizontal-tab-width: 144px;
    --jp-widgets-horizontal-tab-top-border: 2px;
    --jp-widgets-progress-thickness: 20px;
    --jp-widgets-container-padding: 15px;
    --jp-widgets-input-padding: 4px;
    --jp-widgets-radio-item-height-adjustment: 8px;
    --jp-widgets-radio-item-height: calc(var(--jp-widgets-inline-height) - var(--jp-widgets-radio-item-height-adjustment));
    --jp-widgets-slider-track-thickness: 4px;
    --jp-widgets-slider-border-width: var(--jp-widgets-border-width);
    --jp-widgets-slider-handle-size: 16px;
    --jp-widgets-slider-handle-border-color: var(--jp-border-color1);
    --jp-widgets-slider-handle-background-color: var(--jp-layout-color1);
    --jp-widgets-slider-active-handle-color: var(--jp-brand-color1);
    --jp-widgets-menu-item-height: 24px;
    --jp-widgets-dropdown-arrow: url("data:image/svg+xml;base64,PD94bWwgdmVyc2lvbj0iMS4wIiBlbmNvZGluZz0idXRmLTgiPz4KPCEtLSBHZW5lcmF0b3I6IEFkb2JlIElsbHVzdHJhdG9yIDE5LjIuMSwgU1ZHIEV4cG9ydCBQbHVnLUluIC4gU1ZHIFZlcnNpb246IDYuMDAgQnVpbGQgMCkgIC0tPgo8c3ZnIHZlcnNpb249IjEuMSIgaWQ9IkxheWVyXzEiIHhtbG5zPSJodHRwOi8vd3d3LnczLm9yZy8yMDAwL3N2ZyIgeG1sbnM6eGxpbms9Imh0dHA6Ly93d3cudzMub3JnLzE5OTkveGxpbmsiIHg9IjBweCIgeT0iMHB4IgoJIHZpZXdCb3g9IjAgMCAxOCAxOCIgc3R5bGU9ImVuYWJsZS1iYWNrZ3JvdW5kOm5ldyAwIDAgMTggMTg7IiB4bWw6c3BhY2U9InByZXNlcnZlIj4KPHN0eWxlIHR5cGU9InRleHQvY3NzIj4KCS5zdDB7ZmlsbDpub25lO30KPC9zdHlsZT4KPHBhdGggZD0iTTUuMiw1LjlMOSw5LjdsMy44LTMuOGwxLjIsMS4ybC00LjksNWwtNC45LTVMNS4yLDUuOXoiLz4KPHBhdGggY2xhc3M9InN0MCIgZD0iTTAtMC42aDE4djE4SDBWLTAuNnoiLz4KPC9zdmc+Cg");
    --jp-widgets-input-color: var(--jp-ui-font-color1);
    --jp-widgets-input-background-color: var(--jp-layout-color1);
    --jp-widgets-input-border-color: var(--jp-border-color1);
    --jp-widgets-input-focus-border-color: var(--jp-brand-color2);
    --jp-widgets-input-border-width: var(--jp-widgets-border-width);
    --jp-widgets-disabled-opacity: 0.6;

    /* From Material Design Lite */
    --md-shadow-key-umbra-opacity: 0.2;
    --md-shadow-key-penumbra-opacity: 0.14;
    --md-shadow-ambient-shadow-opacity: 0.12;
}

.jupyter-widgets {
    margin: var(--jp-widgets-margin);
    box-sizing: border-box;
    color: var(--jp-widgets-color);
    overflow: visible;
}

.jupyter-widgets.jupyter-widgets-disconnected::before {
    line-height: var(--jp-widgets-inline-height);
    height: var(--jp-widgets-inline-height);
}

.jp-Output-result > .jupyter-widgets {
    margin-left: 0;
    margin-right: 0;
}

/* vbox and hbox */

.widget-inline-hbox {
    /* Horizontal widgets */
    box-sizing: border-box;
    display: flex;
    flex-direction: row;
    align-items: baseline;
}

.widget-inline-vbox {
    /* Vertical Widgets */
    box-sizing: border-box;
    display: flex;
    flex-direction: column;
    align-items: center;
}

.widget-box {
    box-sizing: border-box;
    display: flex;
    margin: 0;
    overflow: auto;
}

.widget-gridbox {
    box-sizing: border-box;
    display: grid;
    margin: 0;
    overflow: auto;
}

.widget-hbox {
    flex-direction: row;
}

.widget-vbox {
    flex-direction: column;
}

/* General Button Styling */

.jupyter-button {
    padding-left: 10px;
    padding-right: 10px;
    padding-top: 0px;
    padding-bottom: 0px;
    display: inline-block;
    white-space: nowrap;
    overflow: hidden;
    text-overflow: ellipsis;
    text-align: center;
    font-size: var(--jp-widgets-font-size);
    cursor: pointer;

    height: var(--jp-widgets-inline-height);
    border: 0px solid;
    line-height: var(--jp-widgets-inline-height);
    box-shadow: none;

    color: var(--jp-ui-font-color1);
    background-color: var(--jp-layout-color2);
    border-color: var(--jp-border-color2);
    border: none;
    user-select: none;
}

.jupyter-button i.fa {
    margin-right: var(--jp-widgets-inline-margin);
    pointer-events: none;
}

.jupyter-button:empty:before {
    content: "\200b"; /* zero-width space */
}

.jupyter-widgets.jupyter-button:disabled {
    opacity: var(--jp-widgets-disabled-opacity);
}

.jupyter-button i.fa.center {
    margin-right: 0;
}

.jupyter-button:hover:enabled, .jupyter-button:focus:enabled {
    /* MD Lite 2dp shadow */
    box-shadow: 0 2px 2px 0 rgba(0, 0, 0, var(--md-shadow-key-penumbra-opacity)),
                0 3px 1px -2px rgba(0, 0, 0, var(--md-shadow-key-umbra-opacity)),
                0 1px 5px 0 rgba(0, 0, 0, var(--md-shadow-ambient-shadow-opacity));
}

.jupyter-button:active, .jupyter-button.mod-active {
    /* MD Lite 4dp shadow */
    box-shadow: 0 4px 5px 0 rgba(0, 0, 0, var(--md-shadow-key-penumbra-opacity)),
                0 1px 10px 0 rgba(0, 0, 0, var(--md-shadow-ambient-shadow-opacity)),
                0 2px 4px -1px rgba(0, 0, 0, var(--md-shadow-key-umbra-opacity));
    color: var(--jp-ui-font-color1);
    background-color: var(--jp-layout-color3);
}

.jupyter-button:focus:enabled {
    outline: 1px solid var(--jp-widgets-input-focus-border-color);
}

/* Button "Primary" Styling */

.jupyter-button.mod-primary {
    color: var(--jp-inverse-ui-font-color1);
    background-color: var(--jp-brand-color1);
}

.jupyter-button.mod-primary.mod-active {
    color: var(--jp-inverse-ui-font-color0);
    background-color: var(--jp-brand-color0);
}

.jupyter-button.mod-primary:active {
    color: var(--jp-inverse-ui-font-color0);
    background-color: var(--jp-brand-color0);
}

/* Button "Success" Styling */

.jupyter-button.mod-success {
    color: var(--jp-inverse-ui-font-color1);
    background-color: var(--jp-success-color1);
}

.jupyter-button.mod-success.mod-active {
    color: var(--jp-inverse-ui-font-color0);
    background-color: var(--jp-success-color0);
 }

.jupyter-button.mod-success:active {
    color: var(--jp-inverse-ui-font-color0);
    background-color: var(--jp-success-color0);
 }

 /* Button "Info" Styling */

.jupyter-button.mod-info {
    color: var(--jp-inverse-ui-font-color1);
    background-color: var(--jp-info-color1);
}

.jupyter-button.mod-info.mod-active {
    color: var(--jp-inverse-ui-font-color0);
    background-color: var(--jp-info-color0);
}

.jupyter-button.mod-info:active {
    color: var(--jp-inverse-ui-font-color0);
    background-color: var(--jp-info-color0);
}

/* Button "Warning" Styling */

.jupyter-button.mod-warning {
    color: var(--jp-inverse-ui-font-color1);
    background-color: var(--jp-warn-color1);
}

.jupyter-button.mod-warning.mod-active {
    color: var(--jp-inverse-ui-font-color0);
    background-color: var(--jp-warn-color0);
}

.jupyter-button.mod-warning:active {
    color: var(--jp-inverse-ui-font-color0);
    background-color: var(--jp-warn-color0);
}

/* Button "Danger" Styling */

.jupyter-button.mod-danger {
    color: var(--jp-inverse-ui-font-color1);
    background-color: var(--jp-error-color1);
}

.jupyter-button.mod-danger.mod-active {
    color: var(--jp-inverse-ui-font-color0);
    background-color: var(--jp-error-color0);
}

.jupyter-button.mod-danger:active {
    color: var(--jp-inverse-ui-font-color0);
    background-color: var(--jp-error-color0);
}

/* Widget Button, Widget Toggle Button, Widget Upload */

.widget-button, .widget-toggle-button, .widget-upload {
    width: var(--jp-widgets-inline-width-short);
}

/* Widget Label Styling */

/* Override Bootstrap label css */
.jupyter-widgets label {
    margin-bottom: initial;
}

.widget-label-basic {
    /* Basic Label */
    color: var(--jp-widgets-label-color);
    font-size: var(--jp-widgets-font-size);
    overflow: hidden;
    text-overflow: ellipsis;
    white-space: nowrap;
    line-height: var(--jp-widgets-inline-height);
}

.widget-label {
    /* Label */
    color: var(--jp-widgets-label-color);
    font-size: var(--jp-widgets-font-size);
    overflow: hidden;
    text-overflow: ellipsis;
    white-space: nowrap;
    line-height: var(--jp-widgets-inline-height);
}

.widget-inline-hbox .widget-label {
    /* Horizontal Widget Label */
    color: var(--jp-widgets-label-color);
    text-align: right;
    margin-right: calc( var(--jp-widgets-inline-margin) * 2 );
    width: var(--jp-widgets-inline-label-width);
    flex-shrink: 0;
}

.widget-inline-vbox .widget-label {
    /* Vertical Widget Label */
    color: var(--jp-widgets-label-color);
    text-align: center;
    line-height: var(--jp-widgets-inline-height);
}

/* Widget Readout Styling */

.widget-readout {
    color: var(--jp-widgets-readout-color);
    font-size: var(--jp-widgets-font-size);
    height: var(--jp-widgets-inline-height);
    line-height: var(--jp-widgets-inline-height);
    overflow: hidden;
    white-space: nowrap;
    text-align: center;
}

.widget-readout.overflow {
    /* Overflowing Readout */

    /* From Material Design Lite
        shadow-key-umbra-opacity: 0.2;
        shadow-key-penumbra-opacity: 0.14;
        shadow-ambient-shadow-opacity: 0.12;
     */
    -webkit-box-shadow: 0 2px 2px 0 rgba(0, 0, 0, 0.2),
                        0 3px 1px -2px rgba(0, 0, 0, 0.14),
                        0 1px 5px 0 rgba(0, 0, 0, 0.12);

    -moz-box-shadow: 0 2px 2px 0 rgba(0, 0, 0, 0.2),
                     0 3px 1px -2px rgba(0, 0, 0, 0.14),
                     0 1px 5px 0 rgba(0, 0, 0, 0.12);

    box-shadow: 0 2px 2px 0 rgba(0, 0, 0, 0.2),
                0 3px 1px -2px rgba(0, 0, 0, 0.14),
                0 1px 5px 0 rgba(0, 0, 0, 0.12);
}

.widget-inline-hbox .widget-readout {
    /* Horizontal Readout */
    text-align: center;
    max-width: var(--jp-widgets-inline-width-short);
    min-width: var(--jp-widgets-inline-width-tiny);
    margin-left: var(--jp-widgets-inline-margin);
}

.widget-inline-vbox .widget-readout {
    /* Vertical Readout */
    margin-top: var(--jp-widgets-inline-margin);
    /* as wide as the widget */
    width: inherit;
}

/* Widget Checkbox Styling */

.widget-checkbox {
    width: var(--jp-widgets-inline-width);
    height: var(--jp-widgets-inline-height);
    line-height: var(--jp-widgets-inline-height);
}

.widget-checkbox input[type="checkbox"] {
    margin: 0px calc( var(--jp-widgets-inline-margin) * 2 ) 0px 0px;
    line-height: var(--jp-widgets-inline-height);
    font-size: large;
    flex-grow: 1;
    flex-shrink: 0;
    align-self: center;
}

/* Widget Valid Styling */

.widget-valid {
    height: var(--jp-widgets-inline-height);
    line-height: var(--jp-widgets-inline-height);
    width: var(--jp-widgets-inline-width-short);
    font-size: var(--jp-widgets-font-size);
}

.widget-valid i:before {
    line-height: var(--jp-widgets-inline-height);
    margin-right: var(--jp-widgets-inline-margin);
    margin-left: var(--jp-widgets-inline-margin);

    /* from the fa class in FontAwesome: https://github.com/FortAwesome/Font-Awesome/blob/49100c7c3a7b58d50baa71efef11af41a66b03d3/css/font-awesome.css#L14 */
    display: inline-block;
    font: normal normal normal 14px/1 FontAwesome;
    font-size: inherit;
    text-rendering: auto;
    -webkit-font-smoothing: antialiased;
    -moz-osx-font-smoothing: grayscale;
}

.widget-valid.mod-valid i:before {
    content: "\f00c";
    color: green;
}

.widget-valid.mod-invalid i:before {
    content: "\f00d";
    color: red;
}

.widget-valid.mod-valid .widget-valid-readout {
    display: none;
}

/* Widget Text and TextArea Stying */

.widget-textarea, .widget-text {
    width: var(--jp-widgets-inline-width);
}

.widget-text input[type="text"], .widget-text input[type="number"]{
    height: var(--jp-widgets-inline-height);
    line-height: var(--jp-widgets-inline-height);
}

.widget-text input[type="text"]:disabled, .widget-text input[type="number"]:disabled, .widget-textarea textarea:disabled {
    opacity: var(--jp-widgets-disabled-opacity);
}

.widget-text input[type="text"], .widget-text input[type="number"], .widget-textarea textarea {
    box-sizing: border-box;
    border: var(--jp-widgets-input-border-width) solid var(--jp-widgets-input-border-color);
    background-color: var(--jp-widgets-input-background-color);
    color: var(--jp-widgets-input-color);
    font-size: var(--jp-widgets-font-size);
    flex-grow: 1;
    min-width: 0; /* This makes it possible for the flexbox to shrink this input */
    flex-shrink: 1;
    outline: none !important;
}
    
.widget-text input[type="text"], .widget-textarea textarea {
    padding: var(--jp-widgets-input-padding) calc( var(--jp-widgets-input-padding) *  2);
}

.widget-text input[type="number"] {
    padding: var(--jp-widgets-input-padding) 0 var(--jp-widgets-input-padding) calc(var(--jp-widgets-input-padding) *  2);
}

.widget-textarea textarea {
    height: inherit;
    width: inherit;
}

.widget-text input:focus, .widget-textarea textarea:focus {
    border-color: var(--jp-widgets-input-focus-border-color);
}

/* Widget Slider */

.widget-slider .ui-slider {
    /* Slider Track */
    border: var(--jp-widgets-slider-border-width) solid var(--jp-layout-color3);
    background: var(--jp-layout-color3);
    box-sizing: border-box;
    position: relative;
    border-radius: 0px;
}

.widget-slider .ui-slider .ui-slider-handle {
    /* Slider Handle */
    outline: none !important; /* focused slider handles are colored - see below */
    position: absolute;
    background-color: var(--jp-widgets-slider-handle-background-color);
    border: var(--jp-widgets-slider-border-width) solid var(--jp-widgets-slider-handle-border-color);
    box-sizing: border-box;
    z-index: 1;
    background-image: none; /* Override jquery-ui */
}

/* Override jquery-ui */
.widget-slider .ui-slider .ui-slider-handle:hover, .widget-slider .ui-slider .ui-slider-handle:focus {
    background-color: var(--jp-widgets-slider-active-handle-color);
    border: var(--jp-widgets-slider-border-width) solid var(--jp-widgets-slider-active-handle-color);
}

.widget-slider .ui-slider .ui-slider-handle:active {
    background-color: var(--jp-widgets-slider-active-handle-color);
    border-color: var(--jp-widgets-slider-active-handle-color);
    z-index: 2;
    transform: scale(1.2);
}

.widget-slider  .ui-slider .ui-slider-range {
    /* Interval between the two specified value of a double slider */
    position: absolute;
    background: var(--jp-widgets-slider-active-handle-color);
    z-index: 0;
}

/* Shapes of Slider Handles */

.widget-hslider .ui-slider .ui-slider-handle {
    width: var(--jp-widgets-slider-handle-size);
    height: var(--jp-widgets-slider-handle-size);
    margin-top: calc((var(--jp-widgets-slider-track-thickness) - var(--jp-widgets-slider-handle-size)) / 2 - var(--jp-widgets-slider-border-width));
    margin-left: calc(var(--jp-widgets-slider-handle-size) / -2 + var(--jp-widgets-slider-border-width));
    border-radius: 50%;
    top: 0;
}

.widget-vslider .ui-slider .ui-slider-handle {
    width: var(--jp-widgets-slider-handle-size);
    height: var(--jp-widgets-slider-handle-size);
    margin-bottom: calc(var(--jp-widgets-slider-handle-size) / -2 + var(--jp-widgets-slider-border-width));
    margin-left: calc((var(--jp-widgets-slider-track-thickness) - var(--jp-widgets-slider-handle-size)) / 2 - var(--jp-widgets-slider-border-width));
    border-radius: 50%;
    left: 0;
}

.widget-hslider .ui-slider .ui-slider-range {
    height: calc( var(--jp-widgets-slider-track-thickness) * 2 );
    margin-top: calc((var(--jp-widgets-slider-track-thickness) - var(--jp-widgets-slider-track-thickness) * 2 ) / 2 - var(--jp-widgets-slider-border-width));
}

.widget-vslider .ui-slider .ui-slider-range {
    width: calc( var(--jp-widgets-slider-track-thickness) * 2 );
    margin-left: calc((var(--jp-widgets-slider-track-thickness) - var(--jp-widgets-slider-track-thickness) * 2 ) / 2 - var(--jp-widgets-slider-border-width));
}

/* Horizontal Slider */

.widget-hslider {
    width: var(--jp-widgets-inline-width);
    height: var(--jp-widgets-inline-height);
    line-height: var(--jp-widgets-inline-height);

    /* Override the align-items baseline. This way, the description and readout
    still seem to align their baseline properly, and we don't have to have
    align-self: stretch in the .slider-container. */
    align-items: center;
}

.widgets-slider .slider-container {
    overflow: visible;
}

.widget-hslider .slider-container {
    height: var(--jp-widgets-inline-height);
    margin-left: calc(var(--jp-widgets-slider-handle-size) / 2 - 2 * var(--jp-widgets-slider-border-width));
    margin-right: calc(var(--jp-widgets-slider-handle-size) / 2 - 2 * var(--jp-widgets-slider-border-width));
    flex: 1 1 var(--jp-widgets-inline-width-short);
}

.widget-hslider .ui-slider {
    /* Inner, invisible slide div */
    height: var(--jp-widgets-slider-track-thickness);
    margin-top: calc((var(--jp-widgets-inline-height) - var(--jp-widgets-slider-track-thickness)) / 2);
    width: 100%;
}

/* Vertical Slider */

.widget-vbox .widget-label {
    height: var(--jp-widgets-inline-height);
    line-height: var(--jp-widgets-inline-height);
}

.widget-vslider {
    /* Vertical Slider */
    height: var(--jp-widgets-vertical-height);
    width: var(--jp-widgets-inline-width-tiny);
}

.widget-vslider .slider-container {
    flex: 1 1 var(--jp-widgets-inline-width-short);
    margin-left: auto;
    margin-right: auto;
    margin-bottom: calc(var(--jp-widgets-slider-handle-size) / 2 - 2 * var(--jp-widgets-slider-border-width));
    margin-top: calc(var(--jp-widgets-slider-handle-size) / 2 - 2 * var(--jp-widgets-slider-border-width));
    display: flex;
    flex-direction: column;
}

.widget-vslider .ui-slider-vertical {
    /* Inner, invisible slide div */
    width: var(--jp-widgets-slider-track-thickness);
    flex-grow: 1;
    margin-left: auto;
    margin-right: auto;
}

/* Widget Progress Styling */

.progress-bar {
    -webkit-transition: none;
    -moz-transition: none;
    -ms-transition: none;
    -o-transition: none;
    transition: none;
}

.progress-bar {
    height: var(--jp-widgets-inline-height);
}

.progress-bar {
    background-color: var(--jp-brand-color1);
}

.progress-bar-success {
    background-color: var(--jp-success-color1);
}

.progress-bar-info {
    background-color: var(--jp-info-color1);
}

.progress-bar-warning {
    background-color: var(--jp-warn-color1);
}

.progress-bar-danger {
    background-color: var(--jp-error-color1);
}

.progress {
    background-color: var(--jp-layout-color2);
    border: none;
    box-shadow: none;
}

/* Horisontal Progress */

.widget-hprogress {
    /* Progress Bar */
    height: var(--jp-widgets-inline-height);
    line-height: var(--jp-widgets-inline-height);
    width: var(--jp-widgets-inline-width);
    align-items: center;

}

.widget-hprogress .progress {
    flex-grow: 1;
    margin-top: var(--jp-widgets-input-padding);
    margin-bottom: var(--jp-widgets-input-padding);
    align-self: stretch;
    /* Override bootstrap style */
    height: initial;
}

/* Vertical Progress */

.widget-vprogress {
    height: var(--jp-widgets-vertical-height);
    width: var(--jp-widgets-inline-width-tiny);
}

.widget-vprogress .progress {
    flex-grow: 1;
    width: var(--jp-widgets-progress-thickness);
    margin-left: auto;
    margin-right: auto;
    margin-bottom: 0;
}

/* Select Widget Styling */

.widget-dropdown {
    height: var(--jp-widgets-inline-height);
    width: var(--jp-widgets-inline-width);
    line-height: var(--jp-widgets-inline-height);
}

.widget-dropdown > select {
    padding-right: 20px;
    border: var(--jp-widgets-input-border-width) solid var(--jp-widgets-input-border-color);
    border-radius: 0;
    height: inherit;
    flex: 1 1 var(--jp-widgets-inline-width-short);
    min-width: 0; /* This makes it possible for the flexbox to shrink this input */
    box-sizing: border-box;
    outline: none !important;
    box-shadow: none;
    background-color: var(--jp-widgets-input-background-color);
    color: var(--jp-widgets-input-color);
    font-size: var(--jp-widgets-font-size);
    vertical-align: top;
    padding-left: calc( var(--jp-widgets-input-padding) * 2);
	appearance: none;
	-webkit-appearance: none;
	-moz-appearance: none;
    background-repeat: no-repeat;
	background-size: 20px;
	background-position: right center;
    background-image: var(--jp-widgets-dropdown-arrow);
}
.widget-dropdown > select:focus {
    border-color: var(--jp-widgets-input-focus-border-color);
}

.widget-dropdown > select:disabled {
    opacity: var(--jp-widgets-disabled-opacity);
}

/* To disable the dotted border in Firefox around select controls.
   See http://stackoverflow.com/a/18853002 */
.widget-dropdown > select:-moz-focusring {
    color: transparent;
    text-shadow: 0 0 0 #000;
}

/* Select and SelectMultiple */

.widget-select {
    width: var(--jp-widgets-inline-width);
    line-height: var(--jp-widgets-inline-height);

    /* Because Firefox defines the baseline of a select as the bottom of the
    control, we align the entire control to the top and add padding to the
    select to get an approximate first line baseline alignment. */
    align-items: flex-start;
}

.widget-select > select {
    border: var(--jp-widgets-input-border-width) solid var(--jp-widgets-input-border-color);
    background-color: var(--jp-widgets-input-background-color);
    color: var(--jp-widgets-input-color);
    font-size: var(--jp-widgets-font-size);
    flex: 1 1 var(--jp-widgets-inline-width-short);
    outline: none !important;
    overflow: auto;
    height: inherit;

    /* Because Firefox defines the baseline of a select as the bottom of the
    control, we align the entire control to the top and add padding to the
    select to get an approximate first line baseline alignment. */
    padding-top: 5px;
}

.widget-select > select:focus {
    border-color: var(--jp-widgets-input-focus-border-color);
}

.wiget-select > select > option {
    padding-left: var(--jp-widgets-input-padding);
    line-height: var(--jp-widgets-inline-height);
    /* line-height doesn't work on some browsers for select options */
    padding-top: calc(var(--jp-widgets-inline-height)-var(--jp-widgets-font-size)/2);
    padding-bottom: calc(var(--jp-widgets-inline-height)-var(--jp-widgets-font-size)/2);
}



/* Toggle Buttons Styling */

.widget-toggle-buttons {
    line-height: var(--jp-widgets-inline-height);
}

.widget-toggle-buttons .widget-toggle-button {
    margin-left: var(--jp-widgets-margin);
    margin-right: var(--jp-widgets-margin);
}

.widget-toggle-buttons .jupyter-button:disabled {
    opacity: var(--jp-widgets-disabled-opacity);
}

/* Radio Buttons Styling */

.widget-radio {
    width: var(--jp-widgets-inline-width);
    line-height: var(--jp-widgets-inline-height);
}

.widget-radio-box {
    display: flex;
    flex-direction: column;
    align-items: stretch;
    box-sizing: border-box;
    flex-grow: 1;
    margin-bottom: var(--jp-widgets-radio-item-height-adjustment);
}

.widget-radio-box label {
    height: var(--jp-widgets-radio-item-height);
    line-height: var(--jp-widgets-radio-item-height);
    font-size: var(--jp-widgets-font-size);
}

.widget-radio-box input {
    height: var(--jp-widgets-radio-item-height);
    line-height: var(--jp-widgets-radio-item-height);
    margin: 0 calc( var(--jp-widgets-input-padding) * 2 ) 0 1px;
    float: left;
}

/* Color Picker Styling */

.widget-colorpicker {
    width: var(--jp-widgets-inline-width);
    height: var(--jp-widgets-inline-height);
    line-height: var(--jp-widgets-inline-height);
}

.widget-colorpicker > .widget-colorpicker-input {
    flex-grow: 1;
    flex-shrink: 1;
    min-width: var(--jp-widgets-inline-width-tiny);
}

.widget-colorpicker input[type="color"] {
    width: var(--jp-widgets-inline-height);
    height: var(--jp-widgets-inline-height);
    padding: 0 2px; /* make the color square actually square on Chrome on OS X */
    background: var(--jp-widgets-input-background-color);
    color: var(--jp-widgets-input-color);
    border: var(--jp-widgets-input-border-width) solid var(--jp-widgets-input-border-color);
    border-left: none;
    flex-grow: 0;
    flex-shrink: 0;
    box-sizing: border-box;
    align-self: stretch;
    outline: none !important;
}

.widget-colorpicker.concise input[type="color"] {
    border-left: var(--jp-widgets-input-border-width) solid var(--jp-widgets-input-border-color);
}

.widget-colorpicker input[type="color"]:focus, .widget-colorpicker input[type="text"]:focus {
    border-color: var(--jp-widgets-input-focus-border-color);
}

.widget-colorpicker input[type="text"] {
    flex-grow: 1;
    outline: none !important;
    height: var(--jp-widgets-inline-height);
    line-height: var(--jp-widgets-inline-height);
    background: var(--jp-widgets-input-background-color);
    color: var(--jp-widgets-input-color);
    border: var(--jp-widgets-input-border-width) solid var(--jp-widgets-input-border-color);
    font-size: var(--jp-widgets-font-size);
    padding: var(--jp-widgets-input-padding) calc( var(--jp-widgets-input-padding) *  2 );
    min-width: 0; /* This makes it possible for the flexbox to shrink this input */
    flex-shrink: 1;
    box-sizing: border-box;
}

.widget-colorpicker input[type="text"]:disabled {
    opacity: var(--jp-widgets-disabled-opacity);
}

/* Date Picker Styling */

.widget-datepicker {
    width: var(--jp-widgets-inline-width);
    height: var(--jp-widgets-inline-height);
    line-height: var(--jp-widgets-inline-height);
}

.widget-datepicker input[type="date"] {
    flex-grow: 1;
    flex-shrink: 1;
    min-width: 0; /* This makes it possible for the flexbox to shrink this input */
    outline: none !important;
    height: var(--jp-widgets-inline-height);
    border: var(--jp-widgets-input-border-width) solid var(--jp-widgets-input-border-color);
    background-color: var(--jp-widgets-input-background-color);
    color: var(--jp-widgets-input-color);
    font-size: var(--jp-widgets-font-size);
    padding: var(--jp-widgets-input-padding) calc( var(--jp-widgets-input-padding) *  2 );
    box-sizing: border-box;
}

.widget-datepicker input[type="date"]:focus {
    border-color: var(--jp-widgets-input-focus-border-color);
}

.widget-datepicker input[type="date"]:invalid {
    border-color: var(--jp-warn-color1);
}

.widget-datepicker input[type="date"]:disabled {
    opacity: var(--jp-widgets-disabled-opacity);
}

/* Play Widget */

.widget-play {
    width: var(--jp-widgets-inline-width-short);
    display: flex;
    align-items: stretch;
}

.widget-play .jupyter-button {
    flex-grow: 1;
    height: auto;
}

.widget-play .jupyter-button:disabled {
    opacity: var(--jp-widgets-disabled-opacity);
}

/* Tab Widget */

.jupyter-widgets.widget-tab {
    display: flex;
    flex-direction: column;
}

.jupyter-widgets.widget-tab > .p-TabBar {
    /* Necessary so that a tab can be shifted down to overlay the border of the box below. */
    overflow-x: visible;
    overflow-y: visible;
}

.jupyter-widgets.widget-tab > .p-TabBar > .p-TabBar-content {
    /* Make sure that the tab grows from bottom up */
    align-items: flex-end;
    min-width: 0;
    min-height: 0;
}

.jupyter-widgets.widget-tab > .widget-tab-contents {
    width: 100%;
    box-sizing: border-box;
    margin: 0;
    background: var(--jp-layout-color1);
    color: var(--jp-ui-font-color1);
    border: var(--jp-border-width) solid var(--jp-border-color1);
    padding: var(--jp-widgets-container-padding);
    flex-grow: 1;
    overflow: auto;
}

.jupyter-widgets.widget-tab > .p-TabBar {
    font: var(--jp-widgets-font-size) Helvetica, Arial, sans-serif;
    min-height: calc(var(--jp-widgets-horizontal-tab-height) + var(--jp-border-width));
}

.jupyter-widgets.widget-tab > .p-TabBar .p-TabBar-tab {
    flex: 0 1 var(--jp-widgets-horizontal-tab-width);
    min-width: 35px;
    min-height: calc(var(--jp-widgets-horizontal-tab-height) + var(--jp-border-width));
    line-height: var(--jp-widgets-horizontal-tab-height);
    margin-left: calc(-1 * var(--jp-border-width));
    padding: 0px 10px;
    background: var(--jp-layout-color2);
    color: var(--jp-ui-font-color2);
    border: var(--jp-border-width) solid var(--jp-border-color1);
    border-bottom: none;
    position: relative;
}

.jupyter-widgets.widget-tab > .p-TabBar .p-TabBar-tab.p-mod-current {
    color: var(--jp-ui-font-color0);
    /* We want the background to match the tab content background */
    background: var(--jp-layout-color1);
    min-height: calc(var(--jp-widgets-horizontal-tab-height) + 2 * var(--jp-border-width));
    transform: translateY(var(--jp-border-width));
    overflow: visible;
}

.jupyter-widgets.widget-tab > .p-TabBar .p-TabBar-tab.p-mod-current:before {
    position: absolute;
    top: calc(-1 * var(--jp-border-width));
    left: calc(-1 * var(--jp-border-width));
    content: '';
    height: var(--jp-widgets-horizontal-tab-top-border);
    width: calc(100% + 2 * var(--jp-border-width));
    background: var(--jp-brand-color1);
}

.jupyter-widgets.widget-tab > .p-TabBar .p-TabBar-tab:first-child {
    margin-left: 0;
}

.jupyter-widgets.widget-tab > .p-TabBar .p-TabBar-tab:hover:not(.p-mod-current) {
    background: var(--jp-layout-color1);
    color: var(--jp-ui-font-color1);
}

.jupyter-widgets.widget-tab > .p-TabBar .p-mod-closable > .p-TabBar-tabCloseIcon {
    margin-left: 4px;
}

.jupyter-widgets.widget-tab > .p-TabBar .p-mod-closable > .p-TabBar-tabCloseIcon:before {
    font-family: FontAwesome;
    content: '\f00d'; /* close */
}

.jupyter-widgets.widget-tab > .p-TabBar .p-TabBar-tabIcon,
.jupyter-widgets.widget-tab > .p-TabBar .p-TabBar-tabLabel,
.jupyter-widgets.widget-tab > .p-TabBar .p-TabBar-tabCloseIcon {
    line-height: var(--jp-widgets-horizontal-tab-height);
}

/* Accordion Widget */

.p-Collapse {
    display: flex;
    flex-direction: column;
    align-items: stretch;
}

.p-Collapse-header {
    padding: var(--jp-widgets-input-padding);
    cursor: pointer;
    color: var(--jp-ui-font-color2);
    background-color: var(--jp-layout-color2);
    border: var(--jp-widgets-border-width) solid var(--jp-border-color1);
    padding: calc(var(--jp-widgets-container-padding) * 2 / 3) var(--jp-widgets-container-padding);
    font-weight: bold;
}

.p-Collapse-header:hover {
    background-color: var(--jp-layout-color1);
    color: var(--jp-ui-font-color1);
}

.p-Collapse-open > .p-Collapse-header {
    background-color: var(--jp-layout-color1);
    color: var(--jp-ui-font-color0);
    cursor: default;
    border-bottom: none;
}

.p-Collapse .p-Collapse-header::before {
    content: '\f0da\00A0';  /* caret-right, non-breaking space */
    display: inline-block;
    font: normal normal normal 14px/1 FontAwesome;
    font-size: inherit;
    text-rendering: auto;
    -webkit-font-smoothing: antialiased;
    -moz-osx-font-smoothing: grayscale;
}

.p-Collapse-open > .p-Collapse-header::before {
    content: '\f0d7\00A0'; /* caret-down, non-breaking space */
}

.p-Collapse-contents {
    padding: var(--jp-widgets-container-padding);
    background-color: var(--jp-layout-color1);
    color: var(--jp-ui-font-color1);
    border-left: var(--jp-widgets-border-width) solid var(--jp-border-color1);
    border-right: var(--jp-widgets-border-width) solid var(--jp-border-color1);
    border-bottom: var(--jp-widgets-border-width) solid var(--jp-border-color1);
    overflow: auto;
}

.p-Accordion {
    display: flex;
    flex-direction: column;
    align-items: stretch;
}

.p-Accordion .p-Collapse {
    margin-bottom: 0;
}

.p-Accordion .p-Collapse + .p-Collapse {
    margin-top: 4px;
}



/* HTML widget */

.widget-html, .widget-htmlmath {
    font-size: var(--jp-widgets-font-size);
}

.widget-html > .widget-html-content, .widget-htmlmath > .widget-html-content {
    /* Fill out the area in the HTML widget */
    align-self: stretch;
    flex-grow: 1;
    flex-shrink: 1;
    /* Makes sure the baseline is still aligned with other elements */
    line-height: var(--jp-widgets-inline-height);
    /* Make it possible to have absolutely-positioned elements in the html */
    position: relative;
}


/* Image widget  */

.widget-image {
    max-width: 100%;
    height: auto;
}
</style><style type="text/css">/* Copyright (c) Jupyter Development Team.
 * Distributed under the terms of the Modified BSD License.
 */
</style><link id="favicon" type="image/x-icon" rel="shortcut icon" href="http://localhost:8888/static/base/images/favicon-notebook.ico"></head>

<body class="notebook_app command_mode" data-jupyter-api-token="0ba7bdeee13b6265c31bdb004e8490dd1ef23b38857c7277" data-base-url="/" data-ws-url="" data-notebook-name="Untitled1.ipynb" data-notebook-path="my%20dataset/Untitled1.ipynb" dir="ltr"><div style="visibility: hidden; overflow: hidden; position: absolute; top: 0px; height: 1px; width: auto; padding: 0px; border: 0px; margin: 0px; text-align: left; text-indent: 0px; text-transform: none; line-height: normal; letter-spacing: normal; word-spacing: normal;"><div id="MathJax_Hidden"></div></div><div id="MathJax_Message" style="display: none;"></div>

<noscript>
    <div id='noscript'>
      Jupyter Notebook requires JavaScript.<br>
      Please enable it to proceed. 
  </div>
</noscript>

<div id="header" role="navigation" aria-label="Top Menu" style="display: block;">
  <div id="header-container" class="container">
  <div id="ipython_notebook" class="nav navbar-brand"><a href="http://localhost:8888/tree?token=0ba7bdeee13b6265c31bdb004e8490dd1ef23b38857c7277" title="dashboard">
      <img src="./iris_files/logo.png" alt="Jupyter Notebook">
  </a></div>

  


<span id="save_widget" class="save_widget">
    <span id="notebook_name" class="filename">Untitled1</span>
    <span class="checkpoint_status" title="Mon, Mar 28, 2022 1:45 PM">Last Checkpoint: 3 hours ago</span>
    <span class="autosave_status">(unsaved changes)</span>
</span>


  

<span id="kernel_logo_widget">
  
  <img class="current_kernel_logo" alt="Current Kernel Logo" src="./iris_files/logo-64x64.png" title="Python 3 (ipykernel)" style="display: inline;">
  
</span>


  
  
  
  

    <span id="login_widget">
      
        <button id="logout" class="btn btn-sm navbar-btn">Logout</button>
      
    </span>

  

  
  
  </div>
  <div class="header-bar"></div>

  
<div id="menubar-container" class="container">
<div id="menubar">
    <div id="menus" class="navbar navbar-default" role="navigation">
        <div class="container-fluid">
            <button type="button" class="btn btn-default navbar-btn navbar-toggle" data-toggle="collapse" data-target=".navbar-collapse">
              <i class="fa fa-bars"></i>
              <span class="navbar-text">Menu</span>
            </button>
            <p id="kernel_indicator" class="navbar-text indicator_area">
              <span class="kernel_indicator_name">Python 3 (ipykernel)</span>
              <i id="kernel_indicator_icon" class="kernel_idle_icon" title="Kernel Idle"></i>
            </p>
            <i id="readonly-indicator" class="navbar-text" title="This notebook is read-only" style="display: none;">
                <span class="fa-stack">
                    <i class="fa fa-save fa-stack-1x"></i>
                    <i class="fa fa-ban fa-stack-2x text-danger"></i>
                </span>
            </i>
            <i id="modal_indicator" class="navbar-text modal_indicator" title="Command Mode"></i>
            <span id="notification_area"><div id="notification_kernel" class="notification_widget btn btn-xs navbar-btn undefined info" style="display: none;"><span></span></div><div id="notification_notebook" class="notification_widget btn btn-xs navbar-btn" style="display: none;"><span></span></div><div id="notification_trusted" class="notification_widget btn btn-xs navbar-btn" style="cursor: help;" disabled="disabled"><span title="Javascript enabled for notebook display">Trusted</span></div><div id="notification_widgets" class="notification_widget btn btn-xs navbar-btn" style="display: none;"><span></span></div></span>
            <div class="navbar-collapse collapse">
              <ul class="nav navbar-nav">
                <li class="dropdown"><a href="http://localhost:8888/notebooks/my%20dataset/Untitled1.ipynb?kernel_name=python3#" class="dropdown-toggle" id="filelink" data-toggle="dropdown" aria-haspopup="true" aria-controls="file_menu">File</a>
                    <ul id="file_menu" class="dropdown-menu" role="menu" aria-labelledby="filelink">
                        <li id="new_notebook" class="menu_focus_highlight dropdown dropdown-submenu" role="none">
                            <a href="http://localhost:8888/notebooks/my%20dataset/Untitled1.ipynb?kernel_name=python3#" role="menuitem" aria-haspopup="true" aria-expanded="false" class="dropdown-toggle" data-toggle="dropdown">New Notebook<span class="sr-only">Dropdown</span></a>
                            <ul class="dropdown-menu" id="menu-new-notebook-submenu" role="menu">
                            <li id="new-notebook-submenu-python3"><a href="http://localhost:8888/notebooks/my%20dataset/Untitled1.ipynb?kernel_name=python3#">Python 3 (ipykernel)</a></li></ul>
                        </li>
                        <li id="open_notebook" role="none" title="Opens a new window with the Dashboard view">
                            <a href="http://localhost:8888/notebooks/my%20dataset/Untitled1.ipynb?kernel_name=python3#" role="menuitem">Open...</a></li>
                        <!-- <hr/> -->
                        <li class="divider" role="none"></li>
                        <li id="copy_notebook" role="none" title="Open a copy of this notebook&#39;s contents and start a new kernel">
                            <a href="http://localhost:8888/notebooks/my%20dataset/Untitled1.ipynb?kernel_name=python3#" role="menuitem">Make a Copy...</a></li>
                        <li id="save_notebook_as" role="none" title="Save a copy of the notebook&#39;s contents and start a new kernel">
                            <a href="http://localhost:8888/notebooks/my%20dataset/Untitled1.ipynb?kernel_name=python3#" role="menuitem">Save as...</a></li>
                        <li id="rename_notebook" role="none"><a href="http://localhost:8888/notebooks/my%20dataset/Untitled1.ipynb?kernel_name=python3#" role="menuitem">Rename...</a></li>
                        <li id="save_checkpoint" role="none"><a href="http://localhost:8888/notebooks/my%20dataset/Untitled1.ipynb?kernel_name=python3#" role="menuitem" class="menu-shortcut-container"><span class="action">Save and Checkpoint</span><span class="kb"><kbd>Ctrl-S</kbd></span></a></li>
                        <!-- <hr/> -->
                        <li class="divider" role="none"></li>
                        <li id="restore_checkpoint" class="menu_focus_highlight dropdown-submenu" role="none"><a href="http://localhost:8888/notebooks/my%20dataset/Untitled1.ipynb?kernel_name=python3#" role="menuitem" aria-haspopup="true" aria-expanded="false" class="dropdown-toggle" data-toggle="dropdown">Revert to Checkpoint<span class="sr-only">Dropdown</span></a>
                          <ul class="dropdown-menu"><li><a href="http://localhost:8888/notebooks/my%20dataset/Untitled1.ipynb?kernel_name=python3#">Monday, March 28, 2022 1:45 PM</a></li></ul>
                        </li>
                        <li class="divider" role="none"></li>
                        <li id="print_preview" role="none"><a href="http://localhost:8888/notebooks/my%20dataset/Untitled1.ipynb?kernel_name=python3#" role="menuitem">Print Preview</a></li>
                        <li class="dropdown-submenu menu_focus_highlight" role="none"><a href="http://localhost:8888/notebooks/my%20dataset/Untitled1.ipynb?kernel_name=python3#" role="menuitem" aria-haspopup="true" aria-expanded="false" class="dropdown-toggle" data-toggle="dropdown">Download as<span class="sr-only">Dropdown</span></a>
                            <ul id="download_menu" class="dropdown-menu">
                                
                                <li id="download_asciidoc">
                                    <a href="http://localhost:8888/notebooks/my%20dataset/Untitled1.ipynb?kernel_name=python3#">AsciiDoc (.asciidoc)</a>
                                </li>
                                
                                <li id="download_html">
                                    <a href="http://localhost:8888/notebooks/my%20dataset/Untitled1.ipynb?kernel_name=python3#">HTML (.html)</a>
                                </li>
                                
                                <li id="download_latex">
                                    <a href="http://localhost:8888/notebooks/my%20dataset/Untitled1.ipynb?kernel_name=python3#">LaTeX (.tex)</a>
                                </li>
                                
                                <li id="download_markdown">
                                    <a href="http://localhost:8888/notebooks/my%20dataset/Untitled1.ipynb?kernel_name=python3#">Markdown (.md)</a>
                                </li>
                                
                                <li id="download_notebook">
                                    <a href="http://localhost:8888/notebooks/my%20dataset/Untitled1.ipynb?kernel_name=python3#">Notebook (.ipynb)</a>
                                </li>
                                
                                <li id="download_pdf">
                                    <a href="http://localhost:8888/notebooks/my%20dataset/Untitled1.ipynb?kernel_name=python3#">PDF via LaTeX (.pdf)</a>
                                </li>
                                
                                <li id="download_rst">
                                    <a href="http://localhost:8888/notebooks/my%20dataset/Untitled1.ipynb?kernel_name=python3#">reST (.rst)</a>
                                </li>
                                
                                <li id="download_script">
                                    <a href="http://localhost:8888/notebooks/my%20dataset/Untitled1.ipynb?kernel_name=python3#">Python (.py)</a>
                                </li>
                                
                                <li id="download_slides">
                                    <a href="http://localhost:8888/notebooks/my%20dataset/Untitled1.ipynb?kernel_name=python3#">Reveal.js slides (.slides.html)</a>
                                </li>
                                
                                <li id="download_webpdf">
                                    <a href="http://localhost:8888/notebooks/my%20dataset/Untitled1.ipynb?kernel_name=python3#">PDF via HTML (.pdf)</a>
                                </li>
                                
                            </ul>
                        </li>
                        <li class="dropdown-submenu hidden" role="none"><a href="http://localhost:8888/notebooks/my%20dataset/Untitled1.ipynb?kernel_name=python3#" role="menuitem">Deploy as</a>
                            <ul id="deploy_menu" class="dropdown-menu"></ul>
                        </li>
                        <li class="divider" role="none"></li>
                        <li id="trust_notebook" role="none" title="Trust the output of this notebook" class="disabled">
                            <a href="http://localhost:8888/notebooks/my%20dataset/Untitled1.ipynb?kernel_name=python3#" role="menuitem">Trusted Notebook</a></li>
                        <li class="divider" role="none"></li>
                        <li id="close_and_halt" role="none" title="Shutdown this notebook&#39;s kernel, and close this window">
                            <a href="http://localhost:8888/notebooks/my%20dataset/Untitled1.ipynb?kernel_name=python3#" role="menuitem">Close and Halt</a></li>
                    </ul>
                </li>

                <li class="dropdown"><a href="http://localhost:8888/notebooks/my%20dataset/Untitled1.ipynb?kernel_name=python3#" class="dropdown-toggle" id="editlink" data-toggle="dropdown" aria-haspopup="true" aria-controls="edit_menu">Edit</a>
                    <ul id="edit_menu" class="dropdown-menu" role="menu" aria-labelledby="editlink">
                        <li id="cut_cell" role="none"><a href="http://localhost:8888/notebooks/my%20dataset/Untitled1.ipynb?kernel_name=python3#" role="menuitem" class="menu-shortcut-container"><span class="action">Cut Cells</span><span class="kb"><kbd>X</kbd></span></a></li>
                        <li id="copy_cell" role="none"><a href="http://localhost:8888/notebooks/my%20dataset/Untitled1.ipynb?kernel_name=python3#" role="menuitem" class="menu-shortcut-container"><span class="action">Copy Cells</span><span class="kb"><kbd>C</kbd></span></a></li>
                        <li id="paste_cell_above" class="disabled" role="none"><a href="http://localhost:8888/notebooks/my%20dataset/Untitled1.ipynb?kernel_name=python3#" role="menuitem" aria-disabled="true" class="menu-shortcut-container"><span class="action">Paste Cells Above</span><span class="kb"><kbd>Shift-V</kbd></span></a></li>
                        <li id="paste_cell_below" class="disabled" role="none"><a href="http://localhost:8888/notebooks/my%20dataset/Untitled1.ipynb?kernel_name=python3#" role="menuitem" aria-disabled="true" class="menu-shortcut-container"><span class="action">Paste Cells Below</span><span class="kb"><kbd>V</kbd></span></a></li>
                        <li id="paste_cell_replace" class="disabled" role="none"><a href="http://localhost:8888/notebooks/my%20dataset/Untitled1.ipynb?kernel_name=python3#" role="menuitem" aria-disabled="true">Paste Cells &amp; Replace</a></li>
                        <li id="delete_cell" role="none"><a href="http://localhost:8888/notebooks/my%20dataset/Untitled1.ipynb?kernel_name=python3#" role="menuitem" class="menu-shortcut-container"><span class="action">Delete Cells</span><span class="kb"><kbd>D</kbd>,<kbd>D</kbd></span></a></li>
                        <li id="undelete_cell" class="disabled" role="none"><a href="http://localhost:8888/notebooks/my%20dataset/Untitled1.ipynb?kernel_name=python3#" role="menuitem" aria-disabled="true" class="menu-shortcut-container"><span class="action">Undo Delete Cells</span><span class="kb"><kbd>Z</kbd></span></a></li>
                        <li class="divider" role="none"></li>
                        <li id="split_cell" role="none"><a href="http://localhost:8888/notebooks/my%20dataset/Untitled1.ipynb?kernel_name=python3#" role="menuitem" class="menu-shortcut-container"><span class="action">Split Cell</span><span class="kb"><kbd>Ctrl-Shift-Minus</kbd></span></a></li>
                        <li id="merge_cell_above" role="none"><a href="http://localhost:8888/notebooks/my%20dataset/Untitled1.ipynb?kernel_name=python3#" role="menuitem">Merge Cell Above</a></li>
                        <li id="merge_cell_below" role="none"><a href="http://localhost:8888/notebooks/my%20dataset/Untitled1.ipynb?kernel_name=python3#" role="menuitem">Merge Cell Below</a></li>
                        <li class="divider" role="none"></li>
                        <li id="move_cell_up" role="none"><a href="http://localhost:8888/notebooks/my%20dataset/Untitled1.ipynb?kernel_name=python3#" role="menuitem">Move Cell Up</a></li>
                        <li id="move_cell_down" role="none"><a href="http://localhost:8888/notebooks/my%20dataset/Untitled1.ipynb?kernel_name=python3#" role="menuitem">Move Cell Down</a></li>
                        <li class="divider" role="none"></li>
                        <li id="edit_nb_metadata" role="none"><a href="http://localhost:8888/notebooks/my%20dataset/Untitled1.ipynb?kernel_name=python3#" role="menuitem">Edit Notebook Metadata</a></li>
                        <li class="divider" role="none"></li>
                        <li id="find_and_replace" role="none"><a href="http://localhost:8888/notebooks/my%20dataset/Untitled1.ipynb?kernel_name=python3#" role="menuitem"> Find and Replace </a></li>
                        <li class="divider" role="none"></li>
                        <li id="cut_cell_attachments" role="none"><a href="http://localhost:8888/notebooks/my%20dataset/Untitled1.ipynb?kernel_name=python3#" role="menuitem">Cut Cell Attachments</a></li>
                        <li id="copy_cell_attachments" role="none"><a href="http://localhost:8888/notebooks/my%20dataset/Untitled1.ipynb?kernel_name=python3#" role="menuitem">Copy Cell Attachments</a></li>
                        <li id="paste_cell_attachments" class="disabled" role="none"><a href="http://localhost:8888/notebooks/my%20dataset/Untitled1.ipynb?kernel_name=python3#" role="menuitem" aria-disabled="true">Paste Cell Attachments</a></li>
                        <li class="divider" role="none"></li>
                        <li id="insert_image" class="disabled" role="none"><a href="http://localhost:8888/notebooks/my%20dataset/Untitled1.ipynb?kernel_name=python3#" role="menuitem" aria-disabled="true">  Insert Image </a></li>
                    </ul>
                </li>
                <li class="dropdown"><a href="http://localhost:8888/notebooks/my%20dataset/Untitled1.ipynb?kernel_name=python3#" class="dropdown-toggle" id="viewlink" data-toggle="dropdown" aria-haspopup="true" aria-controls="view_menu">View</a>
                    <ul id="view_menu" class="dropdown-menu" role="menu" aria-labelledby="viewlink">
                        <li id="toggle_header" role="none" title="Show/Hide the logo and notebook title (above menu bar)">
                            <a href="http://localhost:8888/notebooks/my%20dataset/Untitled1.ipynb?kernel_name=python3#" role="menuitem">Toggle Header</a>
                        </li>
                        <li id="toggle_toolbar" role="none" title="Show/Hide the action icons (below menu bar)">
                            <a href="http://localhost:8888/notebooks/my%20dataset/Untitled1.ipynb?kernel_name=python3#" role="menuitem">Toggle Toolbar</a>
                        </li>
                        <li id="toggle_line_numbers" role="none" title="Show/Hide line numbers in cells">
                            <a href="http://localhost:8888/notebooks/my%20dataset/Untitled1.ipynb?kernel_name=python3#" role="menuitem" class="menu-shortcut-container"><span class="action">Toggle Line Numbers</span><span class="kb"><kbd>Shift-L</kbd></span></a>
                        </li>
                        <li id="menu-cell-toolbar" class="menu_focus_highlight dropdown-submenu" role="none">
                            <a href="http://localhost:8888/notebooks/my%20dataset/Untitled1.ipynb?kernel_name=python3#" role="menuitem" aria-haspopup="true" aria-expanded="false" class="dropdown-toggle" data-toggle="dropdown">Cell Toolbar</a>
                            <ul class="dropdown-menu" id="menu-cell-toolbar-submenu"><li data-name="None"><a href="http://localhost:8888/notebooks/my%20dataset/Untitled1.ipynb?kernel_name=python3#">None</a></li><li data-name="Edit%20Metadata"><a href="http://localhost:8888/notebooks/my%20dataset/Untitled1.ipynb?kernel_name=python3#">Edit Metadata</a></li><li data-name="Raw%20Cell%20Format"><a href="http://localhost:8888/notebooks/my%20dataset/Untitled1.ipynb?kernel_name=python3#">Raw Cell Format</a></li><li data-name="Slideshow"><a href="http://localhost:8888/notebooks/my%20dataset/Untitled1.ipynb?kernel_name=python3#">Slideshow</a></li><li data-name="Attachments"><a href="http://localhost:8888/notebooks/my%20dataset/Untitled1.ipynb?kernel_name=python3#">Attachments</a></li><li data-name="Tags"><a href="http://localhost:8888/notebooks/my%20dataset/Untitled1.ipynb?kernel_name=python3#">Tags</a></li></ul>
                        </li>
                    </ul>
                </li>
                <li class="dropdown"><a href="http://localhost:8888/notebooks/my%20dataset/Untitled1.ipynb?kernel_name=python3#" class="dropdown-toggle" id="insertlink" data-toggle="dropdown" aria-haspopup="true" aria-controls="insert_menu">Insert</a>
                    <ul id="insert_menu" class="dropdown-menu" role="menu" aria-labelledby="insertlink">
                        <li id="insert_cell_above" role="none" title="Insert an empty Code cell above the currently active cell">
                            <a href="http://localhost:8888/notebooks/my%20dataset/Untitled1.ipynb?kernel_name=python3#" role="menuitem" class="menu-shortcut-container"><span class="action">Insert Cell Above</span><span class="kb"><kbd>A</kbd></span></a></li>
                        <li id="insert_cell_below" role="none" title="Insert an empty Code cell below the currently active cell">
                            <a href="http://localhost:8888/notebooks/my%20dataset/Untitled1.ipynb?kernel_name=python3#" role="menuitem" class="menu-shortcut-container"><span class="action">Insert Cell Below</span><span class="kb"><kbd>B</kbd></span></a></li>
                    </ul>
                </li>
                <li class="dropdown"><a href="http://localhost:8888/notebooks/my%20dataset/Untitled1.ipynb?kernel_name=python3#" class="dropdown-toggle" id="celllink" data-toggle="dropdown" aria-haspopup="true" aria-controls="cell_menu">Cell</a>
                    <ul id="cell_menu" class="dropdown-menu" role="menu" aria-labelledby="celllink">
                        <li id="run_cell" role="none" title="Run this cell, and move cursor to the next one">
                            <a role="menuitem" href="http://localhost:8888/notebooks/my%20dataset/Untitled1.ipynb?kernel_name=python3#" class="menu-shortcut-container"><span class="action">Run Cells</span><span class="kb"><kbd>Ctrl-Enter</kbd></span></a></li>
                        <li id="run_cell_select_below" role="none" title="Run this cell, select below">
                            <a href="http://localhost:8888/notebooks/my%20dataset/Untitled1.ipynb?kernel_name=python3#" role="menuitem" class="menu-shortcut-container"><span class="action">Run Cells and Select Below</span><span class="kb"><kbd>Shift-Enter</kbd></span></a></li>
                        <li id="run_cell_insert_below" role="none" title="Run this cell, insert below">
                            <a href="http://localhost:8888/notebooks/my%20dataset/Untitled1.ipynb?kernel_name=python3#" role="menuitem" class="menu-shortcut-container"><span class="action">Run Cells and Insert Below</span><span class="kb"><kbd>Alt-Enter</kbd></span></a></li>
                        <li id="run_all_cells" role="none" title="Run all cells in the notebook">
                            <a href="http://localhost:8888/notebooks/my%20dataset/Untitled1.ipynb?kernel_name=python3#" role="menuitem">Run All</a></li>
                        <li id="run_all_cells_above" role="none" title="Run all cells above (but not including) this cell">
                            <a href="http://localhost:8888/notebooks/my%20dataset/Untitled1.ipynb?kernel_name=python3#" role="menuitem">Run All Above</a></li>
                        <li id="run_all_cells_below" role="none" title="Run this cell and all cells below it">
                            <a href="http://localhost:8888/notebooks/my%20dataset/Untitled1.ipynb?kernel_name=python3#" role="menuitem">Run All Below</a></li>
                        <li class="divider" role="none"></li>
                        <li id="change_cell_type" class="menu_focus_highlight dropdown-submenu" role="none" title="All cells in the notebook have a cell type. By default, new cells are created as &#39;Code&#39; cells">
                            <a href="http://localhost:8888/notebooks/my%20dataset/Untitled1.ipynb?kernel_name=python3#" role="menuitem" aria-haspopup="true" aria-expanded="false" class="dropdown-toggle" data-toggle="dropdown">Cell Type</a>
                            <ul class="dropdown-menu" role="menu">
                              <li id="to_code" role="none" title="Contents will be sent to the kernel for execution, and output will display in the footer of cell">
                                  <a href="http://localhost:8888/notebooks/my%20dataset/Untitled1.ipynb?kernel_name=python3#" class="menu-shortcut-container"><span class="action">Code</span><span class="kb"><kbd>Y</kbd></span></a></li>
                              <li id="to_markdown" title="Contents will be rendered as HTML and serve as explanatory text">
                                  <a href="http://localhost:8888/notebooks/my%20dataset/Untitled1.ipynb?kernel_name=python3#" class="menu-shortcut-container"><span class="action">Markdown</span><span class="kb"><kbd>M</kbd></span></a></li>
                              <li id="to_raw" title="Contents will pass through nbconvert unmodified">
                                  <a href="http://localhost:8888/notebooks/my%20dataset/Untitled1.ipynb?kernel_name=python3#" class="menu-shortcut-container"><span class="action">Raw NBConvert</span><span class="kb"><kbd>R</kbd></span></a></li>
                            </ul>
                        </li>
                        <li class="divider" role="none"></li>
                        <li id="current_outputs" class="menu_focus_highlight dropdown-submenu" role="none"><a href="http://localhost:8888/notebooks/my%20dataset/Untitled1.ipynb?kernel_name=python3#" role="menuitem" aria-haspopup="true" aria-expanded="false" class="dropdown-toggle" data-toggle="dropdown">Current Outputs</a>
                            <ul class="dropdown-menu" role="menu">
                                <li id="toggle_current_output" role="none" title="Hide/Show the output of the current cell">
                                    <a href="http://localhost:8888/notebooks/my%20dataset/Untitled1.ipynb?kernel_name=python3#" class="menu-shortcut-container"><span class="action">Toggle</span><span class="kb"><kbd>O</kbd></span></a>
                                </li>
                                <li id="toggle_current_output_scroll" title="Scroll the output of the current cell">
                                    <a href="http://localhost:8888/notebooks/my%20dataset/Untitled1.ipynb?kernel_name=python3#" class="menu-shortcut-container"><span class="action">Toggle Scrolling</span><span class="kb"><kbd>Shift-O</kbd></span></a>
                                </li>
                                <li id="clear_current_output" title="Clear the output of the current cell">
                                    <a href="http://localhost:8888/notebooks/my%20dataset/Untitled1.ipynb?kernel_name=python3#">Clear</a>
                                </li>
                            </ul>
                        </li>
                        <li id="all_outputs" class="menu_focus_highlight dropdown-submenu" role="none"><a href="http://localhost:8888/notebooks/my%20dataset/Untitled1.ipynb?kernel_name=python3#" role="menuitem" aria-haspopup="true" aria-expanded="false" class="dropdown-toggle" data-toggle="dropdown">All Output</a>
                            <ul class="dropdown-menu" role="menu">
                                <li id="toggle_all_output" role="none" title="Hide/Show the output of all cells">
                                    <a href="http://localhost:8888/notebooks/my%20dataset/Untitled1.ipynb?kernel_name=python3#">Toggle</a>
                                </li>
                                <li id="toggle_all_output_scroll" title="Scroll the output of all cells">
                                    <a href="http://localhost:8888/notebooks/my%20dataset/Untitled1.ipynb?kernel_name=python3#">Toggle Scrolling</a>
                                </li>
                                <li id="clear_all_output" title="Clear the output of all cells">
                                    <a href="http://localhost:8888/notebooks/my%20dataset/Untitled1.ipynb?kernel_name=python3#">Clear</a>
                                </li>
                            </ul>
                        </li>
                    </ul>
                </li>
                <li class="dropdown"><a href="http://localhost:8888/notebooks/my%20dataset/Untitled1.ipynb?kernel_name=python3#" class="dropdown-toggle" data-toggle="dropdown" id="kernellink">Kernel</a>
                    <ul id="kernel_menu" class="dropdown-menu" aria-labelledby="kernellink">
                        <li id="int_kernel" title="Send Keyboard Interrupt (CTRL-C) to the Kernel">
                            <a href="http://localhost:8888/notebooks/my%20dataset/Untitled1.ipynb?kernel_name=python3#" class="menu-shortcut-container"><span class="action">Interrupt</span><span class="kb"><kbd>I</kbd>,<kbd>I</kbd></span></a>
                        </li>
                        <li id="restart_kernel" title="Restart the Kernel">
                            <a href="http://localhost:8888/notebooks/my%20dataset/Untitled1.ipynb?kernel_name=python3#" class="menu-shortcut-container"><span class="action">Restart</span><span class="kb"><kbd>0</kbd>,<kbd>0</kbd></span></a>
                        </li>
                        <li id="restart_clear_output" title="Restart the Kernel and clear all output">
                            <a href="http://localhost:8888/notebooks/my%20dataset/Untitled1.ipynb?kernel_name=python3#">Restart &amp; Clear Output</a>
                        </li>
                        <li id="restart_run_all" title="Restart the Kernel and re-run the notebook">
                            <a href="http://localhost:8888/notebooks/my%20dataset/Untitled1.ipynb?kernel_name=python3#">Restart &amp; Run All</a>
                        </li>
                        <li id="reconnect_kernel" title="Reconnect to the Kernel">
                            <a href="http://localhost:8888/notebooks/my%20dataset/Untitled1.ipynb?kernel_name=python3#">Reconnect</a>
                        </li>
                        <li id="shutdown_kernel" title="Shutdown the Kernel">
                            <a href="http://localhost:8888/notebooks/my%20dataset/Untitled1.ipynb?kernel_name=python3#">Shutdown</a>
                        </li>
                        <li class="divider" role="none"></li>
                        <li id="menu-change-kernel" class="menu_focus_highlight dropdown-submenu" role="menuitem">
                            <a href="http://localhost:8888/notebooks/my%20dataset/Untitled1.ipynb?kernel_name=python3#" role="menuitem" aria-haspopup="true" aria-expanded="false" class="dropdown-toggle" data-toggle="dropdown">Change kernel</a>
                            <ul class="dropdown-menu" id="menu-change-kernel-submenu"><li id="kernel-submenu-python3"><a href="http://localhost:8888/notebooks/my%20dataset/Untitled1.ipynb?kernel_name=python3#">Python 3 (ipykernel)</a></li></ul>
                        </li>
                    </ul>
                </li>
                <li class="dropdown"><a href="http://localhost:8888/notebooks/my%20dataset/Untitled1.ipynb?kernel_name=python3#" data-toggle="dropdown" class="dropdown-toggle">Widgets</a><ul id="widget-submenu" class="dropdown-menu"><li title="Save the notebook with the widget state information for static rendering"><a href="http://localhost:8888/notebooks/my%20dataset/Untitled1.ipynb?kernel_name=python3#">Save Notebook Widget State</a></li><li title="Clear the widget state information from the notebook"><a href="http://localhost:8888/notebooks/my%20dataset/Untitled1.ipynb?kernel_name=python3#">Clear Notebook Widget State</a></li><ul class="divider"></ul><li title="Download the widget state as a JSON file"><a href="http://localhost:8888/notebooks/my%20dataset/Untitled1.ipynb?kernel_name=python3#">Download Widget State</a></li><li title="Embed interactive widgets"><a href="http://localhost:8888/notebooks/my%20dataset/Untitled1.ipynb?kernel_name=python3#">Embed Widgets</a></li></ul></li><li class="dropdown"><a href="http://localhost:8888/notebooks/my%20dataset/Untitled1.ipynb?kernel_name=python3#" class="dropdown-toggle" data-toggle="dropdown">Help</a>
                    <ul id="help_menu" class="dropdown-menu">
                        
                        <li id="notebook_tour" title="A quick tour of the notebook user interface"><a href="http://localhost:8888/notebooks/my%20dataset/Untitled1.ipynb?kernel_name=python3#">User Interface Tour</a></li>
                        <li id="keyboard_shortcuts" title="Opens a tooltip with all keyboard shortcuts"><a href="http://localhost:8888/notebooks/my%20dataset/Untitled1.ipynb?kernel_name=python3#" class="menu-shortcut-container"><span class="action">Keyboard Shortcuts</span><span class="kb"><kbd>H</kbd></span></a></li>
                        <li id="edit_keyboard_shortcuts" title="Opens a dialog allowing you to edit Keyboard shortcuts"><a href="http://localhost:8888/notebooks/my%20dataset/Untitled1.ipynb?kernel_name=python3#">Edit Keyboard Shortcuts</a></li>
                        <li class="divider"></li>
                        

						
                        
                            
                                <li><a rel="noreferrer" href="http://nbviewer.jupyter.org/github/ipython/ipython/blob/3.x/examples/Notebook/Index.ipynb" target="_blank" title="Opens in a new window">
                                
                                    <i class="fa fa-external-link menu-icon pull-right"></i>
                                

                                Notebook Help
                                </a></li>
                            
                                <li><a rel="noreferrer" href="https://help.github.com/articles/markdown-basics/" target="_blank" title="Opens in a new window">
                                
                                    <i class="fa fa-external-link menu-icon pull-right"></i>
                                

                                Markdown
                                </a></li>
                            
                            
                        
                        <li id="kernel-help-links" class="divider"></li><li><a target="_blank" title="Opens in a new window" href="https://docs.python.org/3.9?v=20220325151901"><i class="fa fa-external-link menu-icon pull-right"></i><span>Python Reference</span></a></li><li><a target="_blank" title="Opens in a new window" href="https://ipython.org/documentation.html?v=20220325151901"><i class="fa fa-external-link menu-icon pull-right"></i><span>IPython Reference</span></a></li><li><a target="_blank" title="Opens in a new window" href="https://docs.scipy.org/doc/numpy/reference/?v=20220325151901"><i class="fa fa-external-link menu-icon pull-right"></i><span>NumPy Reference</span></a></li><li><a target="_blank" title="Opens in a new window" href="https://docs.scipy.org/doc/scipy/reference/?v=20220325151901"><i class="fa fa-external-link menu-icon pull-right"></i><span>SciPy Reference</span></a></li><li><a target="_blank" title="Opens in a new window" href="https://matplotlib.org/contents.html?v=20220325151901"><i class="fa fa-external-link menu-icon pull-right"></i><span>Matplotlib Reference</span></a></li><li><a target="_blank" title="Opens in a new window" href="http://docs.sympy.org/latest/index.html?v=20220325151901"><i class="fa fa-external-link menu-icon pull-right"></i><span>SymPy Reference</span></a></li><li><a target="_blank" title="Opens in a new window" href="https://pandas.pydata.org/pandas-docs/stable/?v=20220325151901"><i class="fa fa-external-link menu-icon pull-right"></i><span>pandas Reference</span></a></li><li class="divider"></li>
                        <li title="About Jupyter Notebook"><a id="notebook_about" href="http://localhost:8888/notebooks/my%20dataset/Untitled1.ipynb?kernel_name=python3#">About</a></li>
                        
                    </ul>
                </li>
              </ul>
            </div>
        </div>
    </div>
</div>

<div id="maintoolbar" class="navbar">
  <div class="toolbar-inner navbar-inner navbar-nobg">
    <div id="maintoolbar-container" class="container toolbar"><div class="btn-group" id="save-notbook"><button class="btn btn-default" title="Save and Checkpoint" data-jupyter-action="jupyter-notebook:save-notebook"><i class="fa-save fa"></i></button></div><div class="btn-group" id="insert_above_below"><button class="btn btn-default" title="insert cell below" data-jupyter-action="jupyter-notebook:insert-cell-below"><i class="fa-plus fa"></i></button></div><div class="btn-group" id="cut_copy_paste"><button class="btn btn-default" title="cut selected cells" data-jupyter-action="jupyter-notebook:cut-cell"><i class="fa-cut fa"></i></button><button class="btn btn-default" title="copy selected cells" data-jupyter-action="jupyter-notebook:copy-cell"><i class="fa-copy fa"></i></button><button class="btn btn-default" title="paste cells below" data-jupyter-action="jupyter-notebook:paste-cell-below"><i class="fa-paste fa"></i></button></div><div class="btn-group" id="move_up_down"><button class="btn btn-default" title="move selected cells up" data-jupyter-action="jupyter-notebook:move-cell-up"><i class="fa-arrow-up fa"></i></button><button class="btn btn-default" title="move selected cells down" data-jupyter-action="jupyter-notebook:move-cell-down"><i class="fa-arrow-down fa"></i></button></div><div class="btn-group" id="run_int"><button class="btn btn-default" aria-label="Run" title="run cell, select below" data-jupyter-action="jupyter-notebook:run-cell-and-select-next"><i class="fa-play fa"></i><span class="toolbar-btn-label">Run</span></button><button class="btn btn-default" title="interrupt the kernel" data-jupyter-action="jupyter-notebook:interrupt-kernel"><i class="fa-stop fa"></i></button><button class="btn btn-default" title="restart the kernel (with dialog)" data-jupyter-action="jupyter-notebook:confirm-restart-kernel"><i class="fa-repeat fa"></i></button><button class="btn btn-default" title="restart the kernel, then re-run the whole notebook (with dialog)" data-jupyter-action="jupyter-notebook:confirm-restart-kernel-and-run-all-cells"><i class="fa-forward fa"></i></button></div><select id="cell_type" aria-label="combobox, select cell type" role="combobox" class="form-control select-xs"><option value="code">Code</option><option value="markdown">Markdown</option><option value="raw">Raw NBConvert</option><option value="heading">Heading</option><option value="multiselect" disabled="disabled" style="display: none;">-</option></select><div class="btn-group" id="cmd_palette"><button class="btn btn-default" title="open the command palette" data-jupyter-action="jupyter-notebook:show-command-palette"><i class="fa-keyboard-o fa"></i></button></div></div>
  </div>
</div>
</div>

<div class="lower-header-bar"></div>

</div>

<div id="site" style="display: block; height: 592.875px;">


<div id="ipython-main-app">
    <div id="notebook_panel">
        <div id="notebook" tabindex="-1"><div class="container" id="notebook-container"><div class="cell code_cell rendered unselected" tabindex="2"><div class="input"><div class="prompt_container"><div class="prompt input_prompt"><bdi>In</bdi>&nbsp;[1]:</div><div class="run_this_cell" title="Run this cell"><i class="fa-step-forward fa"></i></div></div><div class="inner_cell"><div class="ctb_hideshow"><div class="celltoolbar"></div></div><div class="input_area" aria-label="Edit code here"><div class="CodeMirror cm-s-ipython"><div style="overflow: hidden; position: relative; width: 3px; height: 0px; top: 5.60001px; left: 181.038px;"><textarea autocorrect="off" autocapitalize="off" spellcheck="false" tabindex="0" style="position: absolute; bottom: -1em; padding: 0px; width: 1000px; height: 1em; outline: none;"></textarea></div><div class="CodeMirror-vscrollbar" tabindex="-1" cm-not-content="true"><div style="min-width: 1px; height: 0px;"></div></div><div class="CodeMirror-hscrollbar" tabindex="-1" cm-not-content="true"><div style="height: 100%; min-height: 1px; width: 0px;"></div></div><div class="CodeMirror-scrollbar-filler" cm-not-content="true"></div><div class="CodeMirror-gutter-filler" cm-not-content="true"></div><div class="CodeMirror-scroll" tabindex="-1"><div class="CodeMirror-sizer" style="margin-left: 0px; min-width: 299.55px; margin-bottom: -17px; border-right-width: 33px; min-height: 62px; padding-right: 0px; padding-bottom: 0px;"><div style="position: relative; top: 0px;"><div class="CodeMirror-lines" role="presentation"><div role="presentation" style="position: relative; outline: none;"><div class="CodeMirror-measure"></div><div class="CodeMirror-measure"></div><div style="position: relative; z-index: 1;"></div><div class="CodeMirror-cursors" style=""><div class="CodeMirror-cursor" style="left: 181.038px; top: 0px; height: 17px;">&nbsp;</div></div><div class="CodeMirror-code" role="presentation"><pre class=" CodeMirror-line " role="presentation"><span role="presentation" style="padding-right: 0.1px;"><span class="cm-comment"># load the iris dataset</span></span></pre><pre class=" CodeMirror-line " role="presentation"><span role="presentation" style="padding-right: 0.1px;"><span class="cm-keyword">from</span> <span class="cm-variable">sklearn</span>.<span class="cm-property">datasets</span> <span class="cm-keyword">import</span> <span class="cm-variable">load_iris</span></span></pre><pre class=" CodeMirror-line " role="presentation"><span role="presentation" style="padding-right: 0.1px;"><span class="cm-variable">iris</span> <span class="cm-operator">=</span> <span class="cm-variable">load_iris</span>()</span></pre></div></div></div></div></div><div style="position: absolute; height: 33px; width: 1px; border-bottom: 0px solid transparent; top: 62px;"></div><div class="CodeMirror-gutters" style="display: none; height: 95px;"></div></div></div></div></div></div><div class="output_wrapper"><div class="out_prompt_overlay prompt" title="click to scroll output; double click to hide"></div><div class="output"></div><div class="btn btn-default output_collapsed" title="click to expand output" style="display: none;">. . .</div></div></div><div class="cell code_cell rendered unselected" tabindex="2"><div class="input"><div class="prompt_container"><div class="prompt input_prompt"><bdi>In</bdi>&nbsp;[37]:</div><div class="run_this_cell" title="Run this cell"><i class="fa-step-forward fa"></i></div></div><div class="inner_cell"><div class="ctb_hideshow"><div class="celltoolbar"></div></div><div class="input_area" aria-label="Edit code here"><div class="CodeMirror cm-s-ipython"><div style="overflow: hidden; position: relative; width: 3px; height: 0px; top: 5.60001px; left: 594px;"><textarea autocorrect="off" autocapitalize="off" spellcheck="false" tabindex="0" style="position: absolute; bottom: -1em; padding: 0px; width: 1000px; height: 1em; outline: none;"></textarea></div><div class="CodeMirror-vscrollbar" tabindex="-1" cm-not-content="true"><div style="min-width: 1px; height: 0px;"></div></div><div class="CodeMirror-hscrollbar" tabindex="-1" cm-not-content="true" style="display: block; right: 0px; left: 0px;"><div style="height: 100%; min-height: 1px; width: 700px;"></div></div><div class="CodeMirror-scrollbar-filler" cm-not-content="true"></div><div class="CodeMirror-gutter-filler" cm-not-content="true"></div><div class="CodeMirror-scroll" tabindex="-1"><div class="CodeMirror-sizer" style="margin-left: 0px; min-width: 699.762px; margin-bottom: -17px; border-right-width: 33px; min-height: 182px; padding-right: 0px; padding-bottom: 17px;"><div style="position: relative; top: 0px;"><div class="CodeMirror-lines" role="presentation"><div role="presentation" style="position: relative; outline: none;"><div class="CodeMirror-measure"></div><div class="CodeMirror-measure"></div><div style="position: relative; z-index: 1;"></div><div class="CodeMirror-cursors" style="visibility: hidden;"><div class="CodeMirror-cursor" style="left: 689.05px; top: 0px; height: 17px;">&nbsp;</div></div><div class="CodeMirror-code" role="presentation" style=""><pre class=" CodeMirror-line " role="presentation"><span role="presentation" style="padding-right: 0.1px;"><span class="cm-comment"># store the feature matrix(x): input, and response vector (y): output(pre labeled answers)</span></span></pre><pre class=" CodeMirror-line " role="presentation"><span role="presentation" style="padding-right: 0.1px;"><span class="cm-variable">X</span> <span class="cm-operator">=</span> <span class="cm-variable">iris</span>.<span class="cm-property">data</span></span></pre><pre class=" CodeMirror-line " role="presentation"><span role="presentation" style="padding-right: 0.1px;"><span class="cm-variable">y</span> <span class="cm-operator">=</span> <span class="cm-variable">iris</span>.<span class="cm-property">target</span></span></pre><pre class=" CodeMirror-line " role="presentation"><span role="presentation" style="padding-right: 0.1px;"><span cm-text="">​</span></span></pre><pre class=" CodeMirror-line " role="presentation"><span role="presentation" style="padding-right: 0.1px;"><span class="cm-variable">feature_names</span> <span class="cm-operator">=</span> <span class="cm-variable">iris</span>.<span class="cm-property">feature_names</span></span></pre><pre class=" CodeMirror-line " role="presentation"><span role="presentation" style="padding-right: 0.1px;"><span class="cm-variable">target_names</span> <span class="cm-operator">=</span> <span class="cm-variable">iris</span>.<span class="cm-property">target_names</span></span></pre><pre class=" CodeMirror-line " role="presentation"><span role="presentation" style="padding-right: 0.1px;"><span cm-text="">​</span></span></pre><pre class=" CodeMirror-line " role="presentation"><span role="presentation" style="padding-right: 0.1px;"><span class="cm-builtin">print</span>(<span class="cm-string">"Feature names:"</span>, <span class="cm-variable">feature_names</span>) </span></pre><pre class=" CodeMirror-line " role="presentation"><span role="presentation" style="padding-right: 0.1px;"><span class="cm-builtin">print</span>(<span class="cm-string">"Target names:"</span>, <span class="cm-variable">target_names</span>) </span></pre><pre class=" CodeMirror-line " role="presentation"><span role="presentation" style="padding-right: 0.1px;"><span cm-text="">​</span></span></pre></div></div></div></div></div><div style="position: absolute; height: 33px; width: 1px; border-bottom: 17px solid transparent; top: 182px;"></div><div class="CodeMirror-gutters" style="display: none; height: 232px;"></div></div></div></div></div></div><div class="output_wrapper"><div class="out_prompt_overlay prompt" title="click to scroll output; double click to hide"></div><div class="output"><div class="output_area"><div class="run_this_cell"></div><div class="prompt"></div><div class="output_subarea output_text output_stream output_stdout" dir="auto"><pre>Feature names: ['sepal length (cm)', 'sepal width (cm)', 'petal length (cm)', 'petal width (cm)']
Target names: ['setosa' 'versicolor' 'virginica']
</pre></div></div></div><div class="btn btn-default output_collapsed" title="click to expand output" style="display: none;">. . .</div></div></div><div class="cell code_cell rendered unselected" tabindex="2"><div class="input"><div class="prompt_container"><div class="prompt input_prompt"><bdi>In</bdi>&nbsp;[25]:</div><div class="run_this_cell" title="Run this cell"><i class="fa-step-forward fa"></i></div></div><div class="inner_cell"><div class="ctb_hideshow"><div class="celltoolbar"></div></div><div class="input_area" aria-label="Edit code here"><div class="CodeMirror cm-s-ipython"><div style="overflow: hidden; position: relative; width: 3px; height: 0px; top: 22.6px; left: 4px;"><textarea autocorrect="off" autocapitalize="off" spellcheck="false" tabindex="0" style="position: absolute; bottom: -1em; padding: 0px; width: 1000px; height: 1em; outline: none;"></textarea></div><div class="CodeMirror-vscrollbar" tabindex="-1" cm-not-content="true"><div style="min-width: 1px; height: 0px;"></div></div><div class="CodeMirror-hscrollbar" tabindex="-1" cm-not-content="true"><div style="height: 100%; min-height: 1px; width: 0px;"></div></div><div class="CodeMirror-scrollbar-filler" cm-not-content="true"></div><div class="CodeMirror-gutter-filler" cm-not-content="true"></div><div class="CodeMirror-scroll" tabindex="-1"><div class="CodeMirror-sizer" style="margin-left: 0px; min-width: 576.7px; margin-bottom: -17px; border-right-width: 33px; min-height: 130px; padding-right: 0px; padding-bottom: 0px;"><div style="position: relative; top: 0px;"><div class="CodeMirror-lines" role="presentation"><div role="presentation" style="position: relative; outline: none;"><div class="CodeMirror-measure"></div><div class="CodeMirror-measure"></div><div style="position: relative; z-index: 1;"></div><div class="CodeMirror-cursors" style=""><div class="CodeMirror-cursor" style="left: 4px; top: 17px; height: 17px;">&nbsp;</div></div><div class="CodeMirror-code" role="presentation" style=""><pre class=" CodeMirror-line " role="presentation"><span role="presentation" style="padding-right: 0.1px;"><span cm-text="">​</span></span></pre><pre class=" CodeMirror-line " role="presentation"><span role="presentation" style="padding-right: 0.1px;"><span class="cm-comment"># Slit data training and test sets</span></span></pre><pre class=" CodeMirror-line " role="presentation"><span role="presentation" style="padding-right: 0.1px;"><span class="cm-keyword">from</span> <span class="cm-variable">sklearn</span>.<span class="cm-property">model_selection</span> <span class="cm-keyword">import</span> <span class="cm-variable">train_test_split</span></span></pre><pre class=" CodeMirror-line " role="presentation"><span role="presentation" style="padding-right: 0.1px;"><span class="cm-variable">X_train</span>, <span class="cm-variable">X_test</span>, <span class="cm-variable">y_train</span>, <span class="cm-variable">y_test</span> <span class="cm-operator">=</span> <span class="cm-variable">train_test_split</span>(<span class="cm-variable">X</span>, <span class="cm-variable">y</span>, <span class="cm-variable">test_size</span> <span class="cm-operator">=</span> <span class="cm-number">0.2</span>)</span></pre><pre class=" CodeMirror-line " role="presentation"><span role="presentation" style="padding-right: 0.1px;"><span cm-text="">​</span></span></pre><pre class=" CodeMirror-line " role="presentation"><span role="presentation" style="padding-right: 0.1px;"><span class="cm-builtin">print</span>(<span class="cm-variable">X_train</span>.<span class="cm-property">shape</span>)</span></pre><pre class=" CodeMirror-line " role="presentation"><span role="presentation" style="padding-right: 0.1px;"><span class="cm-builtin">print</span>(<span class="cm-variable">X_test</span>.<span class="cm-property">shape</span>)</span></pre></div></div></div></div></div><div style="position: absolute; height: 33px; width: 1px; border-bottom: 0px solid transparent; top: 130px;"></div><div class="CodeMirror-gutters" style="display: none; height: 163px;"></div></div></div></div></div></div><div class="output_wrapper"><div class="out_prompt_overlay prompt" title="click to scroll output; double click to hide"></div><div class="output"><div class="output_area"><div class="run_this_cell"></div><div class="prompt"></div><div class="output_subarea output_text output_stream output_stdout" dir="auto"><pre>(120, 4)
(30, 4)
</pre></div></div></div><div class="btn btn-default output_collapsed" title="click to expand output" style="display: none;">. . .</div></div></div><div class="cell code_cell rendered unselected" tabindex="2"><div class="input"><div class="prompt_container"><div class="prompt input_prompt"><bdi>In</bdi>&nbsp;[26]:</div><div class="run_this_cell" title="Run this cell"><i class="fa-step-forward fa"></i></div></div><div class="inner_cell"><div class="ctb_hideshow"><div class="celltoolbar"></div></div><div class="input_area" aria-label="Edit code here"><div class="CodeMirror cm-s-ipython"><div style="overflow: hidden; position: relative; width: 3px; height: 0px; top: 209.6px; left: 4px;"><textarea autocorrect="off" autocapitalize="off" spellcheck="false" tabindex="0" style="position: absolute; bottom: -1em; padding: 0px; width: 1000px; height: 1em; outline: none;"></textarea></div><div class="CodeMirror-vscrollbar" tabindex="-1" cm-not-content="true"><div style="min-width: 1px; height: 0px;"></div></div><div class="CodeMirror-hscrollbar" tabindex="-1" cm-not-content="true"><div style="height: 100%; min-height: 1px; width: 0px;"></div></div><div class="CodeMirror-scrollbar-filler" cm-not-content="true"></div><div class="CodeMirror-gutter-filler" cm-not-content="true"></div><div class="CodeMirror-scroll" tabindex="-1"><div class="CodeMirror-sizer" style="margin-left: 0px; min-width: 391.913px; margin-bottom: -17px; border-right-width: 33px; min-height: 266px; padding-right: 0px; padding-bottom: 0px;"><div style="position: relative; top: 0px;"><div class="CodeMirror-lines" role="presentation"><div role="presentation" style="position: relative; outline: none;"><div class="CodeMirror-measure"></div><div class="CodeMirror-measure"></div><div style="position: relative; z-index: 1;"></div><div class="CodeMirror-cursors" style="visibility: hidden;"><div class="CodeMirror-cursor" style="left: 4px; top: 204px; height: 17px;">&nbsp;</div></div><div class="CodeMirror-code" role="presentation" style=""><pre class=" CodeMirror-line " role="presentation"><span role="presentation" style="padding-right: 0.1px;"><span class="cm-comment"># knn classifier. Try chaning n_neightors</span></span></pre><pre class=" CodeMirror-line " role="presentation"><span role="presentation" style="padding-right: 0.1px;"><span class="cm-keyword">from</span> <span class="cm-variable">sklearn</span>.<span class="cm-property">neighbors</span> <span class="cm-keyword">import</span> <span class="cm-variable">KNeighborsClassifier</span></span></pre><pre class=" CodeMirror-line " role="presentation"><span role="presentation" style="padding-right: 0.1px;"><span class="cm-variable">knn</span> <span class="cm-operator">=</span> <span class="cm-variable">KNeighborsClassifier</span>(<span class="cm-variable">n_neighbors</span> <span class="cm-operator">=</span> <span class="cm-number">3</span>)</span></pre><pre class=" CodeMirror-line " role="presentation"><span role="presentation" style="padding-right: 0.1px;"><span class="cm-variable">knn</span>.<span class="cm-property">fit</span>(<span class="cm-variable">X_train</span>, <span class="cm-variable">y_train</span>)</span></pre><pre class=" CodeMirror-line " role="presentation"><span role="presentation" style="padding-right: 0.1px;"><span cm-text="">​</span></span></pre><pre class=" CodeMirror-line " role="presentation"><span role="presentation" style="padding-right: 0.1px;"><span class="cm-comment">#Decision Tree</span></span></pre><pre class=" CodeMirror-line " role="presentation"><span role="presentation" style="padding-right: 0.1px;"><span class="cm-comment"># from sklearn.tree import DecisionTreeClassifier </span></span></pre><pre class=" CodeMirror-line " role="presentation"><span role="presentation" style="padding-right: 0.1px;"><span class="cm-comment"># knn = DecisionTreeClassifier() </span></span></pre><pre class=" CodeMirror-line " role="presentation"><span role="presentation" style="padding-right: 0.1px;"><span class="cm-comment"># knn.fit(X_train, y_train) </span></span></pre><pre class=" CodeMirror-line " role="presentation"><span role="presentation" style="padding-right: 0.1px;"><span cm-text="">​</span></span></pre><pre class=" CodeMirror-line " role="presentation"><span role="presentation" style="padding-right: 0.1px;"><span cm-text="">​</span></span></pre><pre class=" CodeMirror-line " role="presentation"><span role="presentation" style="padding-right: 0.1px;"><span class="cm-comment"># make prediction</span></span></pre><pre class=" CodeMirror-line " role="presentation"><span role="presentation" style="padding-right: 0.1px;"><span cm-text="">​</span></span></pre><pre class=" CodeMirror-line " role="presentation"><span role="presentation" style="padding-right: 0.1px;"><span class="cm-variable">y_pred</span> <span class="cm-operator">=</span> <span class="cm-variable">knn</span>.<span class="cm-property">predict</span>(<span class="cm-variable">X_test</span>)</span></pre><pre class=" CodeMirror-line " role="presentation"><span role="presentation" style="padding-right: 0.1px;"><span cm-text="">​</span></span></pre></div></div></div></div></div><div style="position: absolute; height: 33px; width: 1px; border-bottom: 0px solid transparent; top: 266px;"></div><div class="CodeMirror-gutters" style="display: none; height: 299px;"></div></div></div></div></div></div><div class="output_wrapper"><div class="out_prompt_overlay prompt" title="click to scroll output; double click to hide"></div><div class="output"></div><div class="btn btn-default output_collapsed" title="click to expand output" style="display: none;">. . .</div></div></div><div class="cell code_cell rendered unselected" tabindex="2"><div class="input"><div class="prompt_container"><div class="prompt input_prompt"><bdi>In</bdi>&nbsp;[27]:</div><div class="run_this_cell" title="Run this cell"><i class="fa-step-forward fa"></i></div></div><div class="inner_cell"><div class="ctb_hideshow"><div class="celltoolbar"></div></div><div class="input_area" aria-label="Edit code here"><div class="CodeMirror cm-s-ipython"><div style="overflow: hidden; position: relative; width: 3px; height: 0px; top: 22.6px; left: 19.3875px;"><textarea autocorrect="off" autocapitalize="off" spellcheck="false" tabindex="0" style="position: absolute; bottom: -1em; padding: 0px; width: 1000px; height: 1em; outline: none;"></textarea></div><div class="CodeMirror-vscrollbar" tabindex="-1" cm-not-content="true"><div style="min-width: 1px; height: 0px;"></div></div><div class="CodeMirror-hscrollbar" tabindex="-1" cm-not-content="true"><div style="height: 100%; min-height: 1px; width: 0px;"></div></div><div class="CodeMirror-scrollbar-filler" cm-not-content="true"></div><div class="CodeMirror-gutter-filler" cm-not-content="true"></div><div class="CodeMirror-scroll" tabindex="-1"><div class="CodeMirror-sizer" style="margin-left: 0px; min-width: 545.812px; margin-bottom: -17px; border-right-width: 33px; min-height: 96px; padding-right: 0px; padding-bottom: 0px;"><div style="position: relative; top: 0px;"><div class="CodeMirror-lines" role="presentation"><div role="presentation" style="position: relative; outline: none;"><div class="CodeMirror-measure"><pre class="CodeMirror-line-like"><span>xxxxxxxxxx</span></pre></div><div class="CodeMirror-measure"></div><div style="position: relative; z-index: 1;"></div><div class="CodeMirror-cursors" style=""><div class="CodeMirror-cursor" style="left: 19.3875px; top: 17px; height: 17px;">&nbsp;</div></div><div class="CodeMirror-code" role="presentation"><pre class=" CodeMirror-line " role="presentation"><span role="presentation" style="padding-right: 0.1px;"><span cm-text="">​</span></span></pre><pre class=" CodeMirror-line " role="presentation"><span role="presentation" style="padding-right: 0.1px;"><span class="cm-comment"># Accuracy of our model based on our test output and prediction output</span></span></pre><pre class=" CodeMirror-line " role="presentation"><span role="presentation" style="padding-right: 0.1px;"><span class="cm-keyword">from</span> <span class="cm-variable">sklearn</span> <span class="cm-keyword">import</span> <span class="cm-variable">metrics</span> </span></pre><pre class=" CodeMirror-line " role="presentation"><span role="presentation" style="padding-right: 0.1px;"><span class="cm-builtin">print</span>(<span class="cm-variable">metrics</span>.<span class="cm-property">accuracy_score</span>(<span class="cm-variable">y_test</span>, <span class="cm-variable">y_pred</span>))</span></pre><pre class=" CodeMirror-line " role="presentation"><span role="presentation" style="padding-right: 0.1px;"><span cm-text="">​</span></span></pre></div></div></div></div></div><div style="position: absolute; height: 33px; width: 1px; border-bottom: 0px solid transparent; top: 96px;"></div><div class="CodeMirror-gutters" style="display: none; height: 129px;"></div></div></div></div></div></div><div class="output_wrapper"><div class="out_prompt_overlay prompt" title="click to scroll output; double click to hide"></div><div class="output"><div class="output_area"><div class="run_this_cell"></div><div class="prompt"></div><div class="output_subarea output_text output_stream output_stdout" dir="auto"><pre>1.0
</pre></div></div></div><div class="btn btn-default output_collapsed" title="click to expand output" style="display: none;">. . .</div></div></div><div class="cell code_cell rendered unselected" tabindex="2"><div class="input"><div class="prompt_container"><div class="prompt input_prompt"><bdi>In</bdi>&nbsp;[35]:</div><div class="run_this_cell" title="Run this cell"><i class="fa-step-forward fa"></i></div></div><div class="inner_cell"><div class="ctb_hideshow"><div class="celltoolbar"></div></div><div class="input_area" aria-label="Edit code here"><div class="CodeMirror cm-s-ipython"><div style="overflow: hidden; position: relative; width: 3px; height: 0px; top: 56.6px; left: 80.975px;"><textarea autocorrect="off" autocapitalize="off" spellcheck="false" tabindex="0" style="position: absolute; bottom: -1em; padding: 0px; width: 1000px; height: 1em; outline: none;"></textarea></div><div class="CodeMirror-vscrollbar" tabindex="-1" cm-not-content="true"><div style="min-width: 1px; height: 0px;"></div></div><div class="CodeMirror-hscrollbar" tabindex="-1" cm-not-content="true"><div style="height: 100%; min-height: 1px; width: 0px;"></div></div><div class="CodeMirror-scrollbar-filler" cm-not-content="true"></div><div class="CodeMirror-gutter-filler" cm-not-content="true"></div><div class="CodeMirror-scroll" tabindex="-1" draggable="false"><div class="CodeMirror-sizer" style="margin-left: 0px; min-width: 268.75px; margin-bottom: -17px; border-right-width: 33px; min-height: 96px; padding-right: 0px; padding-bottom: 0px;"><div style="position: relative; top: 0px;"><div class="CodeMirror-lines" role="presentation"><div role="presentation" style="position: relative; outline: none;"><div class="CodeMirror-measure"></div><div class="CodeMirror-measure"></div><div style="position: relative; z-index: 1;"></div><div class="CodeMirror-cursors" style=""><div class="CodeMirror-cursor" style="left: 80.975px; top: 51px; height: 17px;">&nbsp;</div></div><div class="CodeMirror-code" role="presentation" style=""><pre class=" CodeMirror-line " role="presentation"><span role="presentation" style="padding-right: 0.1px;"><span class="cm-keyword">import</span> <span class="cm-variable">sklearn</span>.<span class="cm-property">externals</span></span></pre><pre class=" CodeMirror-line " role="presentation"><span role="presentation" style="padding-right: 0.1px;"><span class="cm-keyword">import</span> <span class="cm-variable">joblib</span></span></pre><pre class=" CodeMirror-line " role="presentation"><span role="presentation" style="padding-right: 0.1px;"><span cm-text="">​</span></span></pre><pre class=" CodeMirror-line " role="presentation"><span role="presentation" style="padding-right: 0.1px;"><span class="cm-variable">joblib</span>.<span class="cm-property">dump</span>(<span class="cm-variable">knn</span>, <span class="cm-string">'mlbrain.joblib'</span>)</span></pre><pre class=" CodeMirror-line " role="presentation"><span role="presentation" style="padding-right: 0.1px;"><span cm-text="">​</span></span></pre></div></div></div></div></div><div style="position: absolute; height: 33px; width: 1px; border-bottom: 0px solid transparent; top: 96px;"></div><div class="CodeMirror-gutters" style="display: none; height: 129px;"></div></div></div></div></div></div><div class="output_wrapper"><div class="out_prompt_overlay prompt" title="click to scroll output; double click to hide"></div><div class="output"><div class="output_area"><div class="run_this_cell"></div><div class="prompt output_prompt"><bdi>Out[35]:</bdi></div><div class="output_subarea output_text output_result" dir="auto"><pre>['mlbrain.joblib']</pre></div></div></div><div class="btn btn-default output_collapsed" title="click to expand output" style="display: none;">. . .</div></div></div><div class="cell code_cell rendered unselected" tabindex="2"><div class="input"><div class="prompt_container"><div class="prompt input_prompt"><bdi>In</bdi>&nbsp;[42]:</div><div class="run_this_cell" title="Run this cell"><i class="fa-step-forward fa"></i></div></div><div class="inner_cell"><div class="ctb_hideshow"><div class="celltoolbar"></div></div><div class="input_area" aria-label="Edit code here"><div class="CodeMirror cm-s-ipython"><div style="overflow: hidden; position: relative; width: 3px; height: 0px; top: 107.6px; left: 281.125px;"><textarea autocorrect="off" autocapitalize="off" spellcheck="false" tabindex="0" style="position: absolute; bottom: -1em; padding: 0px; width: 1000px; height: 1em; outline: none;"></textarea></div><div class="CodeMirror-vscrollbar" tabindex="-1" cm-not-content="true"><div style="min-width: 1px; height: 0px;"></div></div><div class="CodeMirror-hscrollbar" tabindex="-1" cm-not-content="true"><div style="height: 100%; min-height: 1px; width: 0px;"></div></div><div class="CodeMirror-scrollbar-filler" cm-not-content="true"></div><div class="CodeMirror-gutter-filler" cm-not-content="true"></div><div class="CodeMirror-scroll" tabindex="-1"><div class="CodeMirror-sizer" style="margin-left: 0px; min-width: 453.525px; margin-bottom: -17px; border-right-width: 33px; min-height: 130px; padding-right: 0px; padding-bottom: 0px;"><div style="position: relative; top: 0px;"><div class="CodeMirror-lines" role="presentation"><div role="presentation" style="position: relative; outline: none;"><div class="CodeMirror-measure"><pre class="CodeMirror-line-like"><span>xxxxxxxxxx</span></pre></div><div class="CodeMirror-measure"></div><div style="position: relative; z-index: 1;"></div><div class="CodeMirror-cursors" style=""><div class="CodeMirror-cursor" style="left: 281.125px; top: 102px; height: 17px;">&nbsp;</div></div><div class="CodeMirror-code" role="presentation" style=""><pre class=" CodeMirror-line " role="presentation"><span role="presentation" style="padding-right: 0.1px;"><span class="cm-variable">model</span> <span class="cm-operator">=</span> <span class="cm-variable">joblib</span>.<span class="cm-property">load</span>(<span class="cm-string">'mlbrain.joblib'</span>)</span></pre><pre class=" CodeMirror-line " role="presentation"><span role="presentation" style="padding-right: 0.1px;"><span cm-text="">​</span></span></pre><pre class=" CodeMirror-line " role="presentation"><span role="presentation" style="padding-right: 0.1px;"><span class="cm-variable">model</span>.<span class="cm-property">predict</span>(<span class="cm-variable">X_test</span>)</span></pre><pre class=" CodeMirror-line " role="presentation"><span role="presentation" style="padding-right: 0.1px;"><span class="cm-variable">sample</span> <span class="cm-operator">=</span> [[<span class="cm-number">3</span>,<span class="cm-number">5</span>,<span class="cm-number">4</span>,<span class="cm-number">2</span>], [<span class="cm-number">2</span>,<span class="cm-number">3</span>,<span class="cm-number">5</span>,<span class="cm-number">4</span>]]</span></pre><pre class=" CodeMirror-line " role="presentation"><span role="presentation" style="padding-right: 0.1px;"><span class="cm-variable">predictions</span> <span class="cm-operator">=</span> <span class="cm-variable">model</span>.<span class="cm-property">predict</span>(<span class="cm-variable">sample</span>)</span></pre><pre class=" CodeMirror-line " role="presentation"><span role="presentation" style="padding-right: 0.1px;"><span class="cm-variable">pred_species</span> <span class="cm-operator">=</span> [<span class="cm-variable">iris</span>.<span class="cm-property">target_names</span>[<span class="cm-variable">p</span>] <span class="cm-keyword">for</span> <span class="cm-variable">p</span> <span class="cm-keyword">in</span> <span class="cm-variable">predictions</span>]</span></pre><pre class=" CodeMirror-line " role="presentation"><span role="presentation" style="padding-right: 0.1px;"><span class="cm-builtin">print</span>(<span class="cm-string">"predictions: "</span>, <span class="cm-variable">pred_species</span>)</span></pre></div></div></div></div></div><div style="position: absolute; height: 33px; width: 1px; border-bottom: 0px solid transparent; top: 130px;"></div><div class="CodeMirror-gutters" style="display: none; height: 163px;"></div></div></div></div></div></div><div class="output_wrapper"><div class="out_prompt_overlay prompt" title="click to scroll output; double click to hide"></div><div class="output"><div class="output_area"><div class="run_this_cell"></div><div class="prompt"></div><div class="output_subarea output_text output_stream output_stdout" dir="auto"><pre>predictions:  ['versicolor', 'virginica']
</pre></div></div></div><div class="btn btn-default output_collapsed" title="click to expand output" style="display: none;">. . .</div></div></div><div class="cell code_cell rendered selected" tabindex="2"><div class="input"><div class="prompt_container"><div class="prompt input_prompt"><bdi>In</bdi>&nbsp;[39]:</div><div class="run_this_cell" title="Run this cell"><i class="fa-step-forward fa"></i></div></div><div class="inner_cell"><div class="ctb_hideshow"><div class="celltoolbar"></div></div><div class="input_area" aria-label="Edit code here"><div class="CodeMirror cm-s-ipython"><div style="overflow: hidden; position: relative; width: 3px; height: 0px; top: 22.6px; left: 134.888px;"><textarea autocorrect="off" autocapitalize="off" spellcheck="false" tabindex="0" style="position: absolute; bottom: -1em; padding: 0px; width: 1000px; height: 1em; outline: none;"></textarea></div><div class="CodeMirror-vscrollbar" tabindex="-1" cm-not-content="true"><div style="min-width: 1px; height: 0px;"></div></div><div class="CodeMirror-hscrollbar" tabindex="-1" cm-not-content="true"><div style="height: 100%; min-height: 1px; width: 0px;"></div></div><div class="CodeMirror-scrollbar-filler" cm-not-content="true"></div><div class="CodeMirror-gutter-filler" cm-not-content="true"></div><div class="CodeMirror-scroll" tabindex="-1"><div class="CodeMirror-sizer" style="margin-left: 0px; min-width: 569.025px; margin-bottom: -17px; border-right-width: 33px; min-height: 351px; padding-right: 0px; padding-bottom: 0px;"><div style="position: relative; top: 0px;"><div class="CodeMirror-lines" role="presentation"><div role="presentation" style="position: relative; outline: none;"><div class="CodeMirror-measure"></div><div class="CodeMirror-measure"></div><div style="position: relative; z-index: 1;"></div><div class="CodeMirror-cursors" style=""><div class="CodeMirror-cursor" style="left: 134.888px; top: 17px; height: 17px;">&nbsp;</div></div><div class="CodeMirror-code" role="presentation" style=""><pre class=" CodeMirror-line " role="presentation"><span role="presentation" style="padding-right: 0.1px;"><span class="cm-keyword">from</span> <span class="cm-variable">sklearn</span>.<span class="cm-property">datasets</span> <span class="cm-keyword">import</span> <span class="cm-variable">load_iris</span> </span></pre><pre class=" CodeMirror-line " role="presentation"><span role="presentation" style="padding-right: 0.1px;"><span class="cm-variable">iris</span> <span class="cm-operator">=</span> <span class="cm-variable">load_iris</span>() </span></pre><pre class=" CodeMirror-line " role="presentation"><span role="presentation" style="padding-right: 0.1px;"><span class="cm-keyword">import</span> <span class="cm-variable">matplotlib</span>.<span class="cm-property">pyplot</span> <span class="cm-keyword">as</span> <span class="cm-variable">plt</span></span></pre><pre class=" CodeMirror-line " role="presentation"><span role="presentation" style="padding-right: 0.1px;"><span cm-text="">​</span></span></pre><pre class=" CodeMirror-line " role="presentation"><span role="presentation" style="padding-right: 0.1px;"><span class="cm-comment"># The indices of the features that we are plotting</span></span></pre><pre class=" CodeMirror-line " role="presentation"><span role="presentation" style="padding-right: 0.1px;"><span class="cm-variable">x_index</span> <span class="cm-operator">=</span> <span class="cm-number">0</span></span></pre><pre class=" CodeMirror-line " role="presentation"><span role="presentation" style="padding-right: 0.1px;"><span class="cm-variable">y_index</span> <span class="cm-operator">=</span> <span class="cm-number">1</span></span></pre><pre class=" CodeMirror-line " role="presentation"><span role="presentation" style="padding-right: 0.1px;"><span cm-text="">​</span></span></pre><pre class=" CodeMirror-line " role="presentation"><span role="presentation" style="padding-right: 0.1px;"><span class="cm-comment"># colorbar with the Iris target names</span></span></pre><pre class=" CodeMirror-line " role="presentation"><span role="presentation" style="padding-right: 0.1px;"><span class="cm-variable">formatter</span> <span class="cm-operator">=</span> <span class="cm-variable">plt</span>.<span class="cm-property">FuncFormatter</span>(<span class="cm-keyword">lambda</span> <span class="cm-variable">i</span>, <span class="cm-operator">*</span><span class="cm-variable">args</span>: <span class="cm-variable">iris</span>.<span class="cm-property">target_names</span>[<span class="cm-builtin">int</span>(<span class="cm-variable">i</span>)])</span></pre><pre class=" CodeMirror-line " role="presentation"><span role="presentation" style="padding-right: 0.1px;"><span cm-text="">​</span></span></pre><pre class=" CodeMirror-line " role="presentation"><span role="presentation" style="padding-right: 0.1px;"><span class="cm-comment">#chart configurations</span></span></pre><pre class=" CodeMirror-line " role="presentation"><span role="presentation" style="padding-right: 0.1px;"><span class="cm-variable">plt</span>.<span class="cm-property">figure</span>(<span class="cm-variable">figsize</span><span class="cm-operator">=</span>(<span class="cm-number">5</span>, <span class="cm-number">4</span>))</span></pre><pre class=" CodeMirror-line " role="presentation"><span role="presentation" style="padding-right: 0.1px;"><span class="cm-variable">plt</span>.<span class="cm-property">scatter</span>(<span class="cm-variable">iris</span>.<span class="cm-property">data</span>[:, <span class="cm-variable">x_index</span>], <span class="cm-variable">iris</span>.<span class="cm-property">data</span>[:, <span class="cm-variable">y_index</span>], <span class="cm-variable">c</span><span class="cm-operator">=</span><span class="cm-variable">iris</span>.<span class="cm-property">target</span>)</span></pre><pre class=" CodeMirror-line " role="presentation"><span role="presentation" style="padding-right: 0.1px;"><span class="cm-variable">plt</span>.<span class="cm-property">colorbar</span>(<span class="cm-variable">ticks</span><span class="cm-operator">=</span>[<span class="cm-number">0</span>, <span class="cm-number">1</span>, <span class="cm-number">2</span>], <span class="cm-builtin">format</span><span class="cm-operator">=</span><span class="cm-variable">formatter</span>)</span></pre><pre class=" CodeMirror-line " role="presentation"><span role="presentation" style="padding-right: 0.1px;"><span class="cm-variable">plt</span>.<span class="cm-property">xlabel</span>(<span class="cm-variable">iris</span>.<span class="cm-property">feature_names</span>[<span class="cm-variable">x_index</span>])</span></pre><pre class=" CodeMirror-line " role="presentation"><span role="presentation" style="padding-right: 0.1px;"><span class="cm-variable">plt</span>.<span class="cm-property">ylabel</span>(<span class="cm-variable">iris</span>.<span class="cm-property">feature_names</span>[<span class="cm-variable">y_index</span>])</span></pre><pre class=" CodeMirror-line " role="presentation"><span role="presentation" style="padding-right: 0.1px;"><span cm-text="">​</span></span></pre><pre class=" CodeMirror-line " role="presentation"><span role="presentation" style="padding-right: 0.1px;"><span class="cm-variable">plt</span>.<span class="cm-property">tight_layout</span>()</span></pre><pre class=" CodeMirror-line " role="presentation"><span role="presentation" style="padding-right: 0.1px;"><span class="cm-variable">plt</span>.<span class="cm-property">show</span>()</span></pre></div></div></div></div></div><div style="position: absolute; height: 33px; width: 1px; border-bottom: 0px solid transparent; top: 351px;"></div><div class="CodeMirror-gutters" style="display: none; height: 384px;"></div></div></div></div></div></div><div class="output_wrapper"><div class="out_prompt_overlay prompt" title="click to scroll output; double click to hide"></div><div class="output"><div class="output_area"><div class="run_this_cell"></div><div class="prompt"></div><div class="output_subarea output_png" dir="auto"><img src="data:image/png;base64,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"></div></div></div><div class="btn btn-default output_collapsed" title="click to expand output" style="display: none;">. . .</div></div></div><div class="cell code_cell rendered unselected" tabindex="2"><div class="input"><div class="prompt_container"><div class="prompt input_prompt"><bdi>In</bdi>&nbsp;[40]:</div><div class="run_this_cell" title="Run this cell"><i class="fa-step-forward fa"></i></div></div><div class="inner_cell"><div class="ctb_hideshow"><div class="celltoolbar"></div></div><div class="input_area" aria-label="Edit code here"><div class="CodeMirror cm-s-ipython"><div style="overflow: hidden; position: relative; width: 3px; height: 0px; top: 22.6px; left: 4px;"><textarea autocorrect="off" autocapitalize="off" spellcheck="false" tabindex="0" style="position: absolute; bottom: -1em; padding: 0px; width: 1000px; height: 1em; outline: none;"></textarea></div><div class="CodeMirror-vscrollbar" tabindex="-1" cm-not-content="true"><div style="min-width: 1px; height: 0px;"></div></div><div class="CodeMirror-hscrollbar" tabindex="-1" cm-not-content="true" style="display: block; right: 0px; left: 0px;"><div style="height: 100%; min-height: 1px; width: 1130.91px;"></div></div><div class="CodeMirror-scrollbar-filler" cm-not-content="true"></div><div class="CodeMirror-gutter-filler" cm-not-content="true"></div><div class="CodeMirror-scroll" tabindex="-1"><div class="CodeMirror-sizer" style="margin-left: 0px; min-width: 1130.91px; margin-bottom: -17px; border-right-width: 33px; min-height: 130px; padding-right: 0px; padding-bottom: 17px;"><div style="position: relative; top: 0px;"><div class="CodeMirror-lines" role="presentation"><div role="presentation" style="position: relative; outline: none;"><div class="CodeMirror-measure"></div><div class="CodeMirror-measure"></div><div style="position: relative; z-index: 1;"></div><div class="CodeMirror-cursors" style=""><div class="CodeMirror-cursor" style="left: 4px; top: 17px; height: 17px;">&nbsp;</div></div><div class="CodeMirror-code" role="presentation" style=""><pre class=" CodeMirror-line " role="presentation"><span role="presentation" style="padding-right: 0.1px;"><span class="cm-variable">features</span> <span class="cm-operator">=</span> <span class="cm-variable">iris</span>.<span class="cm-property">data</span>.<span class="cm-property">T</span></span></pre><pre class=" CodeMirror-line " role="presentation"><span role="presentation" style="padding-right: 0.1px;"><span cm-text="">​</span></span></pre><pre class=" CodeMirror-line " role="presentation"><span role="presentation" style="padding-right: 0.1px;"><span class="cm-variable">plt</span>.<span class="cm-property">scatter</span>(<span class="cm-variable">features</span>[<span class="cm-number">2</span>], <span class="cm-variable">features</span>[<span class="cm-number">3</span>], <span class="cm-variable">alpha</span><span class="cm-operator">=</span><span class="cm-number">0.2</span>,</span></pre><pre class=" CodeMirror-line " role="presentation"><span role="presentation" style="padding-right: 0.1px;">            <span class="cm-variable">s</span><span class="cm-operator">=</span><span class="cm-number">100</span><span class="cm-operator">*</span><span class="cm-variable">features</span>[<span class="cm-number">3</span>], <span class="cm-variable">c</span><span class="cm-operator">=</span><span class="cm-variable">iris</span>.<span class="cm-property">target</span>, <span class="cm-variable">cmap</span><span class="cm-operator">=</span><span class="cm-string">'viridis'</span>) <span class="cm-comment">#https://jakevdp.github.io/PythonDataScienceHandbook/04.02-simple-scatter-plots.html</span></span></pre><pre class=" CodeMirror-line " role="presentation"><span role="presentation" style="padding-right: 0.1px;"><span class="cm-variable">plt</span>.<span class="cm-property">xlabel</span>(<span class="cm-variable">iris</span>.<span class="cm-property">feature_names</span>[<span class="cm-number">2</span>])</span></pre><pre class=" CodeMirror-line " role="presentation"><span role="presentation" style="padding-right: 0.1px;"><span class="cm-variable">plt</span>.<span class="cm-property">ylabel</span>(<span class="cm-variable">iris</span>.<span class="cm-property">feature_names</span>[<span class="cm-number">3</span>]);</span></pre><pre class=" CodeMirror-line " role="presentation"><span role="presentation" style="padding-right: 0.1px;"><span class="cm-variable">plt</span>.<span class="cm-property">colorbar</span>(<span class="cm-variable">ticks</span><span class="cm-operator">=</span>[<span class="cm-number">0</span>, <span class="cm-number">1</span>, <span class="cm-number">2</span>], <span class="cm-builtin">format</span><span class="cm-operator">=</span><span class="cm-variable">formatter</span>)</span></pre></div></div></div></div></div><div style="position: absolute; height: 33px; width: 1px; border-bottom: 17px solid transparent; top: 130px;"></div><div class="CodeMirror-gutters" style="display: none; height: 180px;"></div></div></div></div></div></div><div class="output_wrapper"><div class="out_prompt_overlay prompt" title="click to scroll output; double click to hide"></div><div class="output"><div class="output_area"><div class="run_this_cell"></div><div class="prompt output_prompt"><bdi>Out[40]:</bdi></div><div class="output_subarea output_text output_result" dir="auto"><pre>&lt;matplotlib.colorbar.Colorbar at 0x1926ae42400&gt;</pre></div></div><div class="output_area"><div class="run_this_cell"></div><div class="prompt"></div><div class="output_subarea output_png" dir="auto"><img src="data:image/png;base64,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"></div></div></div><div class="btn btn-default output_collapsed" title="click to expand output" style="display: none;">. . .</div></div></div><div class="cell code_cell unrendered unselected" tabindex="2"><div class="input"><div class="prompt_container"><div class="prompt input_prompt"><bdi>In</bdi>&nbsp;[&nbsp;]:</div><div class="run_this_cell" title="Run this cell"><i class="fa-step-forward fa"></i></div></div><div class="inner_cell"><div class="ctb_hideshow"><div class="celltoolbar"></div></div><div class="input_area" aria-label="Edit code here"><div class="CodeMirror cm-s-ipython"><div style="overflow: hidden; position: relative; width: 3px; height: 0px; top: 5.59998px; left: 4px;"><textarea autocorrect="off" autocapitalize="off" spellcheck="false" tabindex="0" style="position: absolute; bottom: -1em; padding: 0px; width: 1000px; height: 1em; outline: none;"></textarea></div><div class="CodeMirror-vscrollbar" tabindex="-1" cm-not-content="true"><div style="min-width: 1px; height: 0px;"></div></div><div class="CodeMirror-hscrollbar" tabindex="-1" cm-not-content="true"><div style="height: 100%; min-height: 1px; width: 0px;"></div></div><div class="CodeMirror-scrollbar-filler" cm-not-content="true"></div><div class="CodeMirror-gutter-filler" cm-not-content="true"></div><div class="CodeMirror-scroll" tabindex="-1"><div class="CodeMirror-sizer" style="margin-left: 0px; min-width: 7px; margin-bottom: -17px; border-right-width: 33px; min-height: 28px; padding-right: 0px; padding-bottom: 0px;"><div style="position: relative; top: 0px;"><div class="CodeMirror-lines" role="presentation"><div role="presentation" style="position: relative; outline: none;"><div class="CodeMirror-measure"></div><div class="CodeMirror-measure"></div><div style="position: relative; z-index: 1;"></div><div class="CodeMirror-cursors" style="visibility: hidden;"><div class="CodeMirror-cursor" style="left: 4px; top: 0px; height: 17px;">&nbsp;</div></div><div class="CodeMirror-code" role="presentation"><pre class=" CodeMirror-line " role="presentation"><span role="presentation" style="padding-right: 0.1px;"><span cm-text="">​</span></span></pre></div></div></div></div></div><div style="position: absolute; height: 33px; width: 1px; border-bottom: 0px solid transparent; top: 28px;"></div><div class="CodeMirror-gutters" style="display: none; height: 61px;"></div></div></div></div></div></div><div class="output_wrapper"><div class="out_prompt_overlay prompt" title="click to expand output; double click to hide output"></div><div class="output"></div><div class="btn btn-default output_collapsed" title="click to expand output" style="display: none;">. . .</div></div></div></div><div class="end_space"></div></div>
        <div id="tooltip" class="ipython_tooltip" style="display:none"><div class="tooltipbuttons"><a href="http://localhost:8888/notebooks/my%20dataset/Untitled1.ipynb?kernel_name=python3#" role="button" class="ui-button"><span class="ui-icon ui-icon-close">Close</span></a><a href="http://localhost:8888/notebooks/my%20dataset/Untitled1.ipynb?kernel_name=python3#" role="button" class="ui-button" id="expanbutton" title="Grow the tooltip vertically (press shift-tab twice)"><span class="ui-icon ui-icon-plus">Expand</span></a><a href="http://localhost:8888/notebooks/my%20dataset/Untitled1.ipynb?kernel_name=python3#" role="button" class="ui-button" title="show the current docstring in pager (press shift-tab 4 times)"><span class="ui-icon ui-icon-arrowstop-l-n">Open in Pager</span></a><a href="http://localhost:8888/notebooks/my%20dataset/Untitled1.ipynb?kernel_name=python3#" role="button" class="ui-button" title="Tooltip will linger for 10 seconds while you type" style="display: none;"><span class="ui-icon ui-icon-clock">Close</span></a></div><div class="pretooltiparrow"></div><div class="tooltiptext smalltooltip"></div></div>
    </div>
</div>



</div>



<div id="pager" class="ui-resizable">
    <div id="pager-contents">
        <div id="pager-container" class="container"></div>
    </div>
    <div id="pager-button-area"><a role="button" title="Open the pager in an external window" class="ui-button"><span class="ui-icon ui-icon-extlink"></span></a><a role="button" title="Close the pager" class="ui-button"><span class="ui-icon ui-icon-close"></span></a></div>
<div class="ui-resizable-handle ui-resizable-n" style="z-index: 90;"></div></div>






<script type="text/javascript">
    sys_info = {"notebook_version": "6.4.5", "notebook_path": "C:\\Users\\nhlak\\anaconda3\\Lib\\site-packages\\notebook", "commit_source": "", "commit_hash": "", "sys_version": "3.9.7 (default, Sep 16 2021, 16:59:28) [MSC v.1916 64 bit (AMD64)]", "sys_executable": "C:\\Users\\nhlak\\anaconda3\\python.exe", "sys_platform": "win32", "platform": "Windows-10-10.0.22000-SP0", "os_name": "nt", "default_encoding": "utf-8"};
</script>

<script src="./iris_files/encoding.js.download" charset="utf-8"></script>

<script src="./iris_files/main.min.js.download" type="text/javascript" charset="utf-8"></script>



<script type="text/javascript">
  function _remove_token_from_url() {
    if (window.location.search.length <= 1) {
      return;
    }
    var search_parameters = window.location.search.slice(1).split('&');
    for (var i = 0; i < search_parameters.length; i++) {
      if (search_parameters[i].split('=')[0] === 'token') {
        // remote token from search parameters
        search_parameters.splice(i, 1);
        var new_search = '';
        if (search_parameters.length) {
          new_search = '?' + search_parameters.join('&');
        }
        var new_url = window.location.origin + 
                      window.location.pathname + 
                      new_search + 
                      window.location.hash;
        window.history.replaceState({}, "", new_url);
        return;
      }
    }
  }
  _remove_token_from_url();
</script>


<div style="position: absolute; width: 0px; height: 0px; overflow: hidden; padding: 0px; border: 0px; margin: 0px;"><div id="MathJax_Font_Test" style="position: absolute; visibility: hidden; top: 0px; left: 0px; width: auto; min-width: 0px; max-width: none; padding: 0px; border: 0px; margin: 0px; white-space: nowrap; text-align: left; text-indent: 0px; text-transform: none; line-height: normal; letter-spacing: normal; word-spacing: normal; font-size: 40px; font-weight: normal; font-style: normal;"></div></div></body></html>